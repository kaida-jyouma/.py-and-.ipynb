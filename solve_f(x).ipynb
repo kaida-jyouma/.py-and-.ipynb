{
  "nbformat": 4,
  "nbformat_minor": 0,
  "metadata": {
    "colab": {
      "name": "solve-f(x).ipynb",
      "version": "0.3.2",
      "provenance": [],
      "collapsed_sections": [],
      "machine_shape": "hm"
    },
    "kernelspec": {
      "name": "python3",
      "display_name": "Python 3"
    }
  },
  "cells": [
    {
      "cell_type": "code",
      "metadata": {
        "colab_type": "code",
        "outputId": "cf810343-0311-4e7f-ef0c-5f6b227783f2",
        "id": "ZaHK7_6Abvhg",
        "colab": {
          "base_uri": "https://localhost:8080/",
          "height": 1000
        }
      },
      "source": [
        "import random as rdm\n",
        "import time as tm\n",
        "def move(x):\n",
        "    lso1 = []\n",
        "    for i in range(len(x)):\n",
        "        if x[i] == lv:\n",
        "            lso1.append(i)\n",
        "    x.append(nn)\n",
        "    for i in lso1:\n",
        "        if x[i + 1] == nn:\n",
        "            x[i + 1] = lv\n",
        "            x[i] = nn\n",
        "    del(x[-1])\n",
        "    return\n",
        "ls = []\n",
        "lv = chr(9632)\n",
        "nn = chr(9633)\n",
        "for i in range(50):\n",
        "    # 初期値の黒セルの確率 : [0, 1, 2, 3, 4](randint)から2以上(if文) => 60%\n",
        "    a = rdm.randint(0, 4)\n",
        "    if a >= 2:\n",
        "        ls.append(lv)\n",
        "    else:\n",
        "        ls.append(nn)\n",
        "print(\"st\", \" \".join(ls))\n",
        "i = 1\n",
        "while ls.count(lv) > 0:\n",
        "#     tm.sleep(0.85)\n",
        "    move(ls)\n",
        "    lx1 = \" \".join(ls)\n",
        "#     print(\"\\r{}\".format(str(i).zfill(2) + \" \" + str(lx1)), end=\"\")\n",
        "    print(str(i).zfill(2), lx1)\n",
        "    i += 1\n",
        "#     print(\"-----------------------------------------------------------------------------------------------------------------------------------------------------\")"
      ],
      "execution_count": 0,
      "outputs": [
        {
          "output_type": "stream",
          "text": [
            "st □ ■ ■ □ □ ■ ■ □ □ ■ ■ □ ■ ■ ■ □ ■ ■ ■ ■ □ □ □ □ □ ■ □ ■ ■ ■ ■ □ □ ■ ■ ■ ■ ■ ■ ■ ■ ■ □ ■ □ ■ □ □ □ ■\n",
            "01 □ ■ □ ■ □ ■ □ ■ □ ■ □ ■ ■ ■ □ ■ ■ ■ ■ □ ■ □ □ □ □ □ ■ ■ ■ ■ □ ■ □ ■ ■ ■ ■ ■ ■ ■ ■ □ ■ □ ■ □ ■ □ □ □\n",
            "02 □ □ ■ □ ■ □ ■ □ ■ □ ■ ■ ■ □ ■ ■ ■ ■ □ ■ □ ■ □ □ □ □ ■ ■ ■ □ ■ □ ■ ■ ■ ■ ■ ■ ■ ■ □ ■ □ ■ □ ■ □ ■ □ □\n",
            "03 □ □ □ ■ □ ■ □ ■ □ ■ ■ ■ □ ■ ■ ■ ■ □ ■ □ ■ □ ■ □ □ □ ■ ■ □ ■ □ ■ ■ ■ ■ ■ ■ ■ ■ □ ■ □ ■ □ ■ □ ■ □ ■ □\n",
            "04 □ □ □ □ ■ □ ■ □ ■ ■ ■ □ ■ ■ ■ ■ □ ■ □ ■ □ ■ □ ■ □ □ ■ □ ■ □ ■ ■ ■ ■ ■ ■ ■ ■ □ ■ □ ■ □ ■ □ ■ □ ■ □ ■\n",
            "05 □ □ □ □ □ ■ □ ■ ■ ■ □ ■ ■ ■ ■ □ ■ □ ■ □ ■ □ ■ □ ■ □ □ ■ □ ■ ■ ■ ■ ■ ■ ■ ■ □ ■ □ ■ □ ■ □ ■ □ ■ □ ■ □\n",
            "06 □ □ □ □ □ □ ■ ■ ■ □ ■ ■ ■ ■ □ ■ □ ■ □ ■ □ ■ □ ■ □ ■ □ □ ■ ■ ■ ■ ■ ■ ■ ■ □ ■ □ ■ □ ■ □ ■ □ ■ □ ■ □ ■\n",
            "07 □ □ □ □ □ □ ■ ■ □ ■ ■ ■ ■ □ ■ □ ■ □ ■ □ ■ □ ■ □ ■ □ ■ □ ■ ■ ■ ■ ■ ■ ■ □ ■ □ ■ □ ■ □ ■ □ ■ □ ■ □ ■ □\n",
            "08 □ □ □ □ □ □ ■ □ ■ ■ ■ ■ □ ■ □ ■ □ ■ □ ■ □ ■ □ ■ □ ■ □ ■ ■ ■ ■ ■ ■ ■ □ ■ □ ■ □ ■ □ ■ □ ■ □ ■ □ ■ □ ■\n",
            "09 □ □ □ □ □ □ □ ■ ■ ■ ■ □ ■ □ ■ □ ■ □ ■ □ ■ □ ■ □ ■ □ ■ ■ ■ ■ ■ ■ ■ □ ■ □ ■ □ ■ □ ■ □ ■ □ ■ □ ■ □ ■ □\n",
            "10 □ □ □ □ □ □ □ ■ ■ ■ □ ■ □ ■ □ ■ □ ■ □ ■ □ ■ □ ■ □ ■ ■ ■ ■ ■ ■ ■ □ ■ □ ■ □ ■ □ ■ □ ■ □ ■ □ ■ □ ■ □ ■\n",
            "11 □ □ □ □ □ □ □ ■ ■ □ ■ □ ■ □ ■ □ ■ □ ■ □ ■ □ ■ □ ■ ■ ■ ■ ■ ■ ■ □ ■ □ ■ □ ■ □ ■ □ ■ □ ■ □ ■ □ ■ □ ■ □\n",
            "12 □ □ □ □ □ □ □ ■ □ ■ □ ■ □ ■ □ ■ □ ■ □ ■ □ ■ □ ■ ■ ■ ■ ■ ■ ■ □ ■ □ ■ □ ■ □ ■ □ ■ □ ■ □ ■ □ ■ □ ■ □ ■\n",
            "13 □ □ □ □ □ □ □ □ ■ □ ■ □ ■ □ ■ □ ■ □ ■ □ ■ □ ■ ■ ■ ■ ■ ■ ■ □ ■ □ ■ □ ■ □ ■ □ ■ □ ■ □ ■ □ ■ □ ■ □ ■ □\n",
            "14 □ □ □ □ □ □ □ □ □ ■ □ ■ □ ■ □ ■ □ ■ □ ■ □ ■ ■ ■ ■ ■ ■ ■ □ ■ □ ■ □ ■ □ ■ □ ■ □ ■ □ ■ □ ■ □ ■ □ ■ □ ■\n",
            "15 □ □ □ □ □ □ □ □ □ □ ■ □ ■ □ ■ □ ■ □ ■ □ ■ ■ ■ ■ ■ ■ ■ □ ■ □ ■ □ ■ □ ■ □ ■ □ ■ □ ■ □ ■ □ ■ □ ■ □ ■ □\n",
            "16 □ □ □ □ □ □ □ □ □ □ □ ■ □ ■ □ ■ □ ■ □ ■ ■ ■ ■ ■ ■ ■ □ ■ □ ■ □ ■ □ ■ □ ■ □ ■ □ ■ □ ■ □ ■ □ ■ □ ■ □ ■\n",
            "17 □ □ □ □ □ □ □ □ □ □ □ □ ■ □ ■ □ ■ □ ■ ■ ■ ■ ■ ■ ■ □ ■ □ ■ □ ■ □ ■ □ ■ □ ■ □ ■ □ ■ □ ■ □ ■ □ ■ □ ■ □\n",
            "18 □ □ □ □ □ □ □ □ □ □ □ □ □ ■ □ ■ □ ■ ■ ■ ■ ■ ■ ■ □ ■ □ ■ □ ■ □ ■ □ ■ □ ■ □ ■ □ ■ □ ■ □ ■ □ ■ □ ■ □ ■\n",
            "19 □ □ □ □ □ □ □ □ □ □ □ □ □ □ ■ □ ■ ■ ■ ■ ■ ■ ■ □ ■ □ ■ □ ■ □ ■ □ ■ □ ■ □ ■ □ ■ □ ■ □ ■ □ ■ □ ■ □ ■ □\n",
            "20 □ □ □ □ □ □ □ □ □ □ □ □ □ □ □ ■ ■ ■ ■ ■ ■ ■ □ ■ □ ■ □ ■ □ ■ □ ■ □ ■ □ ■ □ ■ □ ■ □ ■ □ ■ □ ■ □ ■ □ ■\n",
            "21 □ □ □ □ □ □ □ □ □ □ □ □ □ □ □ ■ ■ ■ ■ ■ ■ □ ■ □ ■ □ ■ □ ■ □ ■ □ ■ □ ■ □ ■ □ ■ □ ■ □ ■ □ ■ □ ■ □ ■ □\n",
            "22 □ □ □ □ □ □ □ □ □ □ □ □ □ □ □ ■ ■ ■ ■ ■ □ ■ □ ■ □ ■ □ ■ □ ■ □ ■ □ ■ □ ■ □ ■ □ ■ □ ■ □ ■ □ ■ □ ■ □ ■\n",
            "23 □ □ □ □ □ □ □ □ □ □ □ □ □ □ □ ■ ■ ■ ■ □ ■ □ ■ □ ■ □ ■ □ ■ □ ■ □ ■ □ ■ □ ■ □ ■ □ ■ □ ■ □ ■ □ ■ □ ■ □\n",
            "24 □ □ □ □ □ □ □ □ □ □ □ □ □ □ □ ■ ■ ■ □ ■ □ ■ □ ■ □ ■ □ ■ □ ■ □ ■ □ ■ □ ■ □ ■ □ ■ □ ■ □ ■ □ ■ □ ■ □ ■\n",
            "25 □ □ □ □ □ □ □ □ □ □ □ □ □ □ □ ■ ■ □ ■ □ ■ □ ■ □ ■ □ ■ □ ■ □ ■ □ ■ □ ■ □ ■ □ ■ □ ■ □ ■ □ ■ □ ■ □ ■ □\n",
            "26 □ □ □ □ □ □ □ □ □ □ □ □ □ □ □ ■ □ ■ □ ■ □ ■ □ ■ □ ■ □ ■ □ ■ □ ■ □ ■ □ ■ □ ■ □ ■ □ ■ □ ■ □ ■ □ ■ □ ■\n",
            "27 □ □ □ □ □ □ □ □ □ □ □ □ □ □ □ □ ■ □ ■ □ ■ □ ■ □ ■ □ ■ □ ■ □ ■ □ ■ □ ■ □ ■ □ ■ □ ■ □ ■ □ ■ □ ■ □ ■ □\n",
            "28 □ □ □ □ □ □ □ □ □ □ □ □ □ □ □ □ □ ■ □ ■ □ ■ □ ■ □ ■ □ ■ □ ■ □ ■ □ ■ □ ■ □ ■ □ ■ □ ■ □ ■ □ ■ □ ■ □ ■\n",
            "29 □ □ □ □ □ □ □ □ □ □ □ □ □ □ □ □ □ □ ■ □ ■ □ ■ □ ■ □ ■ □ ■ □ ■ □ ■ □ ■ □ ■ □ ■ □ ■ □ ■ □ ■ □ ■ □ ■ □\n",
            "30 □ □ □ □ □ □ □ □ □ □ □ □ □ □ □ □ □ □ □ ■ □ ■ □ ■ □ ■ □ ■ □ ■ □ ■ □ ■ □ ■ □ ■ □ ■ □ ■ □ ■ □ ■ □ ■ □ ■\n",
            "31 □ □ □ □ □ □ □ □ □ □ □ □ □ □ □ □ □ □ □ □ ■ □ ■ □ ■ □ ■ □ ■ □ ■ □ ■ □ ■ □ ■ □ ■ □ ■ □ ■ □ ■ □ ■ □ ■ □\n",
            "32 □ □ □ □ □ □ □ □ □ □ □ □ □ □ □ □ □ □ □ □ □ ■ □ ■ □ ■ □ ■ □ ■ □ ■ □ ■ □ ■ □ ■ □ ■ □ ■ □ ■ □ ■ □ ■ □ ■\n",
            "33 □ □ □ □ □ □ □ □ □ □ □ □ □ □ □ □ □ □ □ □ □ □ ■ □ ■ □ ■ □ ■ □ ■ □ ■ □ ■ □ ■ □ ■ □ ■ □ ■ □ ■ □ ■ □ ■ □\n",
            "34 □ □ □ □ □ □ □ □ □ □ □ □ □ □ □ □ □ □ □ □ □ □ □ ■ □ ■ □ ■ □ ■ □ ■ □ ■ □ ■ □ ■ □ ■ □ ■ □ ■ □ ■ □ ■ □ ■\n",
            "35 □ □ □ □ □ □ □ □ □ □ □ □ □ □ □ □ □ □ □ □ □ □ □ □ ■ □ ■ □ ■ □ ■ □ ■ □ ■ □ ■ □ ■ □ ■ □ ■ □ ■ □ ■ □ ■ □\n",
            "36 □ □ □ □ □ □ □ □ □ □ □ □ □ □ □ □ □ □ □ □ □ □ □ □ □ ■ □ ■ □ ■ □ ■ □ ■ □ ■ □ ■ □ ■ □ ■ □ ■ □ ■ □ ■ □ ■\n",
            "37 □ □ □ □ □ □ □ □ □ □ □ □ □ □ □ □ □ □ □ □ □ □ □ □ □ □ ■ □ ■ □ ■ □ ■ □ ■ □ ■ □ ■ □ ■ □ ■ □ ■ □ ■ □ ■ □\n",
            "38 □ □ □ □ □ □ □ □ □ □ □ □ □ □ □ □ □ □ □ □ □ □ □ □ □ □ □ ■ □ ■ □ ■ □ ■ □ ■ □ ■ □ ■ □ ■ □ ■ □ ■ □ ■ □ ■\n",
            "39 □ □ □ □ □ □ □ □ □ □ □ □ □ □ □ □ □ □ □ □ □ □ □ □ □ □ □ □ ■ □ ■ □ ■ □ ■ □ ■ □ ■ □ ■ □ ■ □ ■ □ ■ □ ■ □\n",
            "40 □ □ □ □ □ □ □ □ □ □ □ □ □ □ □ □ □ □ □ □ □ □ □ □ □ □ □ □ □ ■ □ ■ □ ■ □ ■ □ ■ □ ■ □ ■ □ ■ □ ■ □ ■ □ ■\n",
            "41 □ □ □ □ □ □ □ □ □ □ □ □ □ □ □ □ □ □ □ □ □ □ □ □ □ □ □ □ □ □ ■ □ ■ □ ■ □ ■ □ ■ □ ■ □ ■ □ ■ □ ■ □ ■ □\n",
            "42 □ □ □ □ □ □ □ □ □ □ □ □ □ □ □ □ □ □ □ □ □ □ □ □ □ □ □ □ □ □ □ ■ □ ■ □ ■ □ ■ □ ■ □ ■ □ ■ □ ■ □ ■ □ ■\n",
            "43 □ □ □ □ □ □ □ □ □ □ □ □ □ □ □ □ □ □ □ □ □ □ □ □ □ □ □ □ □ □ □ □ ■ □ ■ □ ■ □ ■ □ ■ □ ■ □ ■ □ ■ □ ■ □\n",
            "44 □ □ □ □ □ □ □ □ □ □ □ □ □ □ □ □ □ □ □ □ □ □ □ □ □ □ □ □ □ □ □ □ □ ■ □ ■ □ ■ □ ■ □ ■ □ ■ □ ■ □ ■ □ ■\n",
            "45 □ □ □ □ □ □ □ □ □ □ □ □ □ □ □ □ □ □ □ □ □ □ □ □ □ □ □ □ □ □ □ □ □ □ ■ □ ■ □ ■ □ ■ □ ■ □ ■ □ ■ □ ■ □\n",
            "46 □ □ □ □ □ □ □ □ □ □ □ □ □ □ □ □ □ □ □ □ □ □ □ □ □ □ □ □ □ □ □ □ □ □ □ ■ □ ■ □ ■ □ ■ □ ■ □ ■ □ ■ □ ■\n",
            "47 □ □ □ □ □ □ □ □ □ □ □ □ □ □ □ □ □ □ □ □ □ □ □ □ □ □ □ □ □ □ □ □ □ □ □ □ ■ □ ■ □ ■ □ ■ □ ■ □ ■ □ ■ □\n",
            "48 □ □ □ □ □ □ □ □ □ □ □ □ □ □ □ □ □ □ □ □ □ □ □ □ □ □ □ □ □ □ □ □ □ □ □ □ □ ■ □ ■ □ ■ □ ■ □ ■ □ ■ □ ■\n",
            "49 □ □ □ □ □ □ □ □ □ □ □ □ □ □ □ □ □ □ □ □ □ □ □ □ □ □ □ □ □ □ □ □ □ □ □ □ □ □ ■ □ ■ □ ■ □ ■ □ ■ □ ■ □\n",
            "50 □ □ □ □ □ □ □ □ □ □ □ □ □ □ □ □ □ □ □ □ □ □ □ □ □ □ □ □ □ □ □ □ □ □ □ □ □ □ □ ■ □ ■ □ ■ □ ■ □ ■ □ ■\n",
            "51 □ □ □ □ □ □ □ □ □ □ □ □ □ □ □ □ □ □ □ □ □ □ □ □ □ □ □ □ □ □ □ □ □ □ □ □ □ □ □ □ ■ □ ■ □ ■ □ ■ □ ■ □\n",
            "52 □ □ □ □ □ □ □ □ □ □ □ □ □ □ □ □ □ □ □ □ □ □ □ □ □ □ □ □ □ □ □ □ □ □ □ □ □ □ □ □ □ ■ □ ■ □ ■ □ ■ □ ■\n",
            "53 □ □ □ □ □ □ □ □ □ □ □ □ □ □ □ □ □ □ □ □ □ □ □ □ □ □ □ □ □ □ □ □ □ □ □ □ □ □ □ □ □ □ ■ □ ■ □ ■ □ ■ □\n",
            "54 □ □ □ □ □ □ □ □ □ □ □ □ □ □ □ □ □ □ □ □ □ □ □ □ □ □ □ □ □ □ □ □ □ □ □ □ □ □ □ □ □ □ □ ■ □ ■ □ ■ □ ■\n",
            "55 □ □ □ □ □ □ □ □ □ □ □ □ □ □ □ □ □ □ □ □ □ □ □ □ □ □ □ □ □ □ □ □ □ □ □ □ □ □ □ □ □ □ □ □ ■ □ ■ □ ■ □\n",
            "56 □ □ □ □ □ □ □ □ □ □ □ □ □ □ □ □ □ □ □ □ □ □ □ □ □ □ □ □ □ □ □ □ □ □ □ □ □ □ □ □ □ □ □ □ □ ■ □ ■ □ ■\n",
            "57 □ □ □ □ □ □ □ □ □ □ □ □ □ □ □ □ □ □ □ □ □ □ □ □ □ □ □ □ □ □ □ □ □ □ □ □ □ □ □ □ □ □ □ □ □ □ ■ □ ■ □\n",
            "58 □ □ □ □ □ □ □ □ □ □ □ □ □ □ □ □ □ □ □ □ □ □ □ □ □ □ □ □ □ □ □ □ □ □ □ □ □ □ □ □ □ □ □ □ □ □ □ ■ □ ■\n",
            "59 □ □ □ □ □ □ □ □ □ □ □ □ □ □ □ □ □ □ □ □ □ □ □ □ □ □ □ □ □ □ □ □ □ □ □ □ □ □ □ □ □ □ □ □ □ □ □ □ ■ □\n",
            "60 □ □ □ □ □ □ □ □ □ □ □ □ □ □ □ □ □ □ □ □ □ □ □ □ □ □ □ □ □ □ □ □ □ □ □ □ □ □ □ □ □ □ □ □ □ □ □ □ □ ■\n",
            "61 □ □ □ □ □ □ □ □ □ □ □ □ □ □ □ □ □ □ □ □ □ □ □ □ □ □ □ □ □ □ □ □ □ □ □ □ □ □ □ □ □ □ □ □ □ □ □ □ □ □\n"
          ],
          "name": "stdout"
        }
      ]
    },
    {
      "cell_type": "code",
      "metadata": {
        "id": "Uf-EhTWic59-",
        "colab_type": "code",
        "colab": {}
      },
      "source": [
        ""
      ],
      "execution_count": 0,
      "outputs": []
    },
    {
      "cell_type": "code",
      "metadata": {
        "id": "8zJDTd0Pc6XZ",
        "colab_type": "code",
        "colab": {}
      },
      "source": [
        ""
      ],
      "execution_count": 0,
      "outputs": []
    },
    {
      "cell_type": "code",
      "metadata": {
        "id": "XmHxTv0-c6t4",
        "colab_type": "code",
        "colab": {}
      },
      "source": [
        ""
      ],
      "execution_count": 0,
      "outputs": []
    },
    {
      "cell_type": "code",
      "metadata": {
        "id": "-7KlsbZfIs89",
        "colab_type": "code",
        "colab": {}
      },
      "source": [
        "# 因数分解/展開用\n",
        "import sympy as sp\n",
        "x = sp.Symbol('x')\n",
        "y = sp.Symbol('y')\n",
        "z = sp.Symbol('z')\n",
        "a = sp.Symbol('a')\n",
        "b = sp.Symbol('b')\n",
        "c = sp.Symbol('c')\n",
        "d = sp.Symbol('d')\n",
        "e = sp.Symbol('e')"
      ],
      "execution_count": 0,
      "outputs": []
    },
    {
      "cell_type": "code",
      "metadata": {
        "id": "eOHx8DnSghbZ",
        "colab_type": "code",
        "colab": {}
      },
      "source": [
        "# y = 0の方程式として解く\n",
        "import sympy as sp\n",
        "x = sp.Symbol('x')\n",
        "y = sp.Symbol('y')\n",
        "z = sp.Symbol('z')\n",
        "a = sp.Symbol('a')\n",
        "b = sp.Symbol('b')\n",
        "c = sp.Symbol('c')\n",
        "d = sp.Symbol('d')\n",
        "e = sp.Symbol('e')\n",
        "f = input()\n",
        "o = sp.solve(f)\n",
        "print(o)"
      ],
      "execution_count": 0,
      "outputs": []
    },
    {
      "cell_type": "code",
      "metadata": {
        "id": "oJ11d-ECE5e9",
        "colab_type": "code",
        "colab": {}
      },
      "source": [
        "# 文字式に数値を代入して解く\n",
        "import sympy as sp\n",
        "import math as mt\n",
        "x = sp.Symbol(\"x\")\n",
        "y = sp.Symbol(\"y\")\n",
        "# 式\n",
        "f = x - (3 / x)\n",
        "print(f)\n",
        "# 代入値\n",
        "x1 = mt.sqrt(7) - 2\n",
        "print(x, \"=\", x1)\n",
        "# y1 = 2 - (mt.sqrt(3))\n",
        "print(f.subs([(x, x1)]))"
      ],
      "execution_count": 0,
      "outputs": []
    },
    {
      "cell_type": "code",
      "metadata": {
        "id": "wS0aCScSM-3a",
        "colab_type": "code",
        "outputId": "252e0cd3-897b-4665-a636-d1ab9bf36d5b",
        "colab": {
          "base_uri": "https://localhost:8080/",
          "height": 53
        }
      },
      "source": [
        "# 展開\n",
        "import sympy as sp\n",
        "x = sp.Symbol('x')\n",
        "y = sp.Symbol('y')\n",
        "z = sp.Symbol('z')\n",
        "a = sp.Symbol('a')\n",
        "b = sp.Symbol('b')\n",
        "c = sp.Symbol('c')\n",
        "d = sp.Symbol('d')\n",
        "e = sp.Symbol('e')\n",
        "f = input(\"f: \")\n",
        "o = sp.expand(f)\n",
        "print(o)\n",
        "# lso = [c for c in str(o)]\n",
        "# for i in range(lso.count('*')):\n",
        "#     lso.remove('*')\n",
        "# mpls = map(str, lso)\n",
        "# ansls = ''.join(mpls)\n",
        "# print(ansls)"
      ],
      "execution_count": 0,
      "outputs": [
        {
          "output_type": "stream",
          "text": [
            "f: (x + 4) * (3 * x -4)\n",
            "3*x**2 + 8*x - 16\n"
          ],
          "name": "stdout"
        }
      ]
    },
    {
      "cell_type": "code",
      "metadata": {
        "id": "98kwSuOoNYPT",
        "colab_type": "code",
        "outputId": "e912006b-31c6-416f-bd1a-9e8f1305f98b",
        "colab": {
          "base_uri": "https://localhost:8080/",
          "height": 71
        }
      },
      "source": [
        "# 因数分解\n",
        "import sympy as sp\n",
        "x = sp.Symbol('x')\n",
        "y = sp.Symbol('y')\n",
        "z = sp.Symbol('z')\n",
        "a = sp.Symbol('a')\n",
        "b = sp.Symbol('b')\n",
        "c = sp.Symbol('c')\n",
        "d = sp.Symbol('d')\n",
        "e = sp.Symbol('e')\n",
        "r = sp.Symbol('r')\n",
        "R = sp.Symbol('R')\n",
        "# for i in range(11):\n",
        "#     f = (x + a) ** (i + 1)\n",
        "#     o = sp.expand(f)\n",
        "#     print(o)\n",
        "f = input(\"f: \")\n",
        "fl = [g for g in f]\n",
        "for i in range(len(fl)):\n",
        "    if fl[i] == \")\" and fl[i + 1] == \"(\":\n",
        "        fl.insert(i+1, \"*\")\n",
        "ansls = \"\".join(fl)\n",
        "o = sp.factor(ansls)\n",
        "lo = [h for h in str(o)]\n",
        "for j in range(len(lo) - 2):\n",
        "    if lo[j] == \")\" and lo[j + 1] == \"*\" and lo[j + 2] == \"(\":\n",
        "        del(lo[j + 1])\n",
        "print(o)\n",
        "print(\"\".join(lo))\n"
      ],
      "execution_count": 0,
      "outputs": [
        {
          "output_type": "stream",
          "text": [
            "f: 3*x**2 + 8*x - 16\n",
            "(x + 4)*(3*x - 4)\n",
            "(x + 4)(3*x - 4)\n"
          ],
          "name": "stdout"
        }
      ]
    },
    {
      "cell_type": "code",
      "metadata": {
        "id": "xmHdrGgUjoHi",
        "colab_type": "code",
        "outputId": "149d823a-67d3-4d92-d624-7a05f1d42c26",
        "colab": {
          "base_uri": "https://localhost:8080/",
          "height": 52
        }
      },
      "source": [
        "# 約数導出&素数判定(低速)\n",
        "num = int(input())\n",
        "ls = []\n",
        "ct1 = 1\n",
        "for i in range(num):\n",
        "    if num % ct1 == 0:\n",
        "        ls.append(ct1)\n",
        "    print(\"\\r{}\".format(ct1), end=\"\")\n",
        "    ct1 += 1\n",
        "# print(ls)\n",
        "if len(ls) == 2:\n",
        "    print(\"\\r{}\".format(\"yes\"))\n",
        "else:\n",
        "    print(\"\\r{}\".format(ls))\n",
        "    print(\"no\")"
      ],
      "execution_count": 0,
      "outputs": [
        {
          "output_type": "stream",
          "text": [
            "127\n",
            "yes\n"
          ],
          "name": "stdout"
        }
      ]
    },
    {
      "cell_type": "code",
      "metadata": {
        "id": "pONDjce2vsZy",
        "colab_type": "code",
        "outputId": "8656b404-a660-4978-b1fc-324d858c51ba",
        "colab": {
          "base_uri": "https://localhost:8080/",
          "height": 71
        }
      },
      "source": [
        "# 素数判定機(高速)\n",
        "import time as tm\n",
        "num = input()\n",
        "intnum = int(num)\n",
        "tm1 = tm.time()\n",
        "for i in range(intnum):\n",
        "#     if (i + 2) % 1000000 == 0:\n",
        "#         print(\"\\r{}\".format(i + 2), end=\"\")\n",
        "    if i == (intnum - 2):\n",
        "        print(\"\\r{}\".format(\"True\"))\n",
        "        tm2 = tm.time()\n",
        "    elif intnum % (i + 2) == 0:\n",
        "        print(\"\\r{}\".format(\"False\"))\n",
        "        print(i + 2)\n",
        "        tm2 = tm.time()\n",
        "        break\n",
        "print(tm2 - tm1, \"ms\")"
      ],
      "execution_count": 0,
      "outputs": [
        {
          "output_type": "stream",
          "text": [
            "239\n",
            "True\n",
            "0.0003485679626464844 ms\n"
          ],
          "name": "stdout"
        }
      ]
    },
    {
      "cell_type": "code",
      "metadata": {
        "id": "k5xtvdrQr-CF",
        "colab_type": "code",
        "colab": {}
      },
      "source": [
        "# 素数発見機\n",
        "def check(x):\n",
        "    num = x\n",
        "    for i in range(num):\n",
        "        if i == (num - 2):\n",
        "            return(True)\n",
        "        if num % (i + 2) == 0:\n",
        "            return(False)\n",
        "ls = []\n",
        "for i in range(20000):\n",
        "    if check(i+1) == True:\n",
        "        ls.append(i + 1)\n",
        "        print(i + 1)\n",
        "print(ls)\n",
        "print(len(ls))"
      ],
      "execution_count": 0,
      "outputs": []
    },
    {
      "cell_type": "code",
      "metadata": {
        "id": "ZVLs_1V_msUV",
        "colab_type": "code",
        "colab": {}
      },
      "source": [
        "# 約数導出機\n",
        "import sympy as sp\n",
        "a = sp.divisors(int(input()))\n",
        "print(a)\n",
        "if len(a) == 2:\n",
        "    print(0)\n",
        "else:\n",
        "    print(1)"
      ],
      "execution_count": 0,
      "outputs": []
    },
    {
      "cell_type": "code",
      "metadata": {
        "id": "_L39_gTmX00J",
        "colab_type": "code",
        "outputId": "00c0f2ee-4e3e-42e8-fc2a-44b851ef5b41",
        "colab": {
          "base_uri": "https://localhost:8080/",
          "height": 158
        }
      },
      "source": [
        "# calculation game\n",
        "\n",
        "# libraries\n",
        "import random as rdm\n",
        "import sys as sys\n",
        "import time as tm\n",
        "from time import sleep\n",
        "# type\n",
        "tp = input(\"type(list/flash/field): \")\n",
        "if tp == \"\" or tp == \"quit\" or tp == \"exit\":\n",
        "    print(\"something is wrong...\")\n",
        "    sleep(3)\n",
        "    print()\n",
        "    sys.exit()\n",
        "elif tp == \"field\":\n",
        "    for i in range(130):\n",
        "        print()\n",
        "    sys.exit()\n",
        "\n",
        "if tp == \"list\":\n",
        "    cts = input(\"length: \")\n",
        "    if cts == \"\" or cts == \"quit\" or cts == \"exit\":\n",
        "        print(\"something is wrong...\")\n",
        "        sleep(3)\n",
        "        print()\n",
        "        sys.exit()\n",
        "    elif cts == \"0\":\n",
        "        print(\"something is wrong...\")\n",
        "        sleep(3)\n",
        "        print()\n",
        "        sys.exit()\n",
        "    dgt = input(\"digits: \")\n",
        "    if dgt == \"quit\" or dgt == \"exit\":\n",
        "        print(\"something is wrong...\")\n",
        "        sleep(3)\n",
        "        print()\n",
        "        sys,exit()\n",
        "    if dgt == \"\":\n",
        "        print(\"something is wrong...\")\n",
        "        sleep(3)\n",
        "        print()\n",
        "        sys.exit()\n",
        "\n",
        "    \n",
        "    level = input(\"level(1~10/option/field): \")\n",
        "    if level == \"\" or level == \"quit\" or level == \"exit\":\n",
        "        print(\"something is wrong...\")\n",
        "        sleep(3)\n",
        "        print()\n",
        "        sys.exit()\n",
        "    elif level == \"option\":\n",
        "        sdtm = input(\"input display time: \")\n",
        "        if float(sdtm) < 0.25:\n",
        "            print(\"error: auto-conplete...\")\n",
        "            sleep(1.5)\n",
        "            print(\"display time is 0.25sec.\")\n",
        "            dtime = 0.25\n",
        "        else:\n",
        "            dtime = float(sdtm)\n",
        "    elif level == \"field\":\n",
        "        for i in range(130):\n",
        "            print()\n",
        "        sys.exit()\n",
        "    elif int(level) > 10:\n",
        "        print(\"something is wrong...\")\n",
        "        sleep(3)\n",
        "        print()\n",
        "        sys.exit()\n",
        "    else:\n",
        "        dtime = 1.5-(int(level)/10)\n",
        "else:\n",
        "    # level\n",
        "    level = input(\"level(1~10/option/field): \")\n",
        "    if level == \"\" or level == \"quit\" or level == \"exit\":\n",
        "        print(\"something is wrong...\")\n",
        "        sleep(3)\n",
        "        print()\n",
        "        sys.exit()\n",
        "    elif level == \"option\":\n",
        "        sdtm = input(\"input display time: \")\n",
        "        if float(sdtm) < 0.25:\n",
        "            print(\"error: auto-conplete...\")\n",
        "            sleep(1.5)\n",
        "            print(\"display time is 0.25sec.\")\n",
        "            dtime = 0.25\n",
        "        else:\n",
        "            dtime = float(sdtm)\n",
        "    elif level == \"field\":\n",
        "        for i in range(130):\n",
        "            print()\n",
        "        sys.exit()\n",
        "    elif int(level) > 10:\n",
        "        print(\"something is wrong...\")\n",
        "        sleep(3)\n",
        "        print()\n",
        "        sys.exit()\n",
        "    else:\n",
        "        dtime = 1.5-(int(level)/10)\n",
        "    \n",
        "    # digits\n",
        "    dgt = input(\"digits: \")\n",
        "    if dgt == \"quit\" or dgt == \"exit\":\n",
        "        print(\"something is wrong...\")\n",
        "        sleep(3)\n",
        "        print()\n",
        "        sys,exit()\n",
        "    if dgt == \"\":\n",
        "        print(\"something is wrong...\")\n",
        "        sleep(3)\n",
        "        print()\n",
        "        sys.exit()\n",
        "    # counts\n",
        "    cts = input(\"count: \")\n",
        "    if cts == \"\" or cts == \"quit\" or cts == \"exit\":\n",
        "        print(\"something is wrong...\")\n",
        "        sleep(3)\n",
        "        print()\n",
        "        sys.exit()\n",
        "    # time\n",
        "    time = input(\"time: \")\n",
        "    if time == \"\" or cts == \"quit\" or cts == \"exit\":\n",
        "        print(\"something is wrong...\")\n",
        "        sleep(3)\n",
        "        print()\n",
        "        sys.exit()\n",
        "# counters\n",
        "wctr = 0\n",
        "rctr = 0\n",
        "tpls = []\n",
        "rpls = []\n",
        "print(\"Game will start soon...\")\n",
        "for i in range(6):\n",
        "    s = 5 - i\n",
        "    if s == 0:\n",
        "        s = \"\"\n",
        "    print(\"\\r{}\".format(s), end=\"\")\n",
        "    sleep(0.7)\n",
        "    print(\"\\r{}\".format(\"\"), end=\"\")\n",
        "    sleep(0.3)\n",
        "print(\"\\r{}\".format(\"\\n\"), end=\"\")\n",
        "print()\n",
        "# game\n",
        "for i in range(int(time)):\n",
        "    print(\"game: \", i + 1)\n",
        "    nls = []\n",
        "    for i in range(int(cts) + 1):\n",
        "        # 乱数生成\n",
        "        num = rdm.randrange(10 ** (int(dgt) - 1), 10 ** int(dgt))\n",
        "#         pct = 6\n",
        "#         if (rdm.randint(1, pct) % pct) == 0:\n",
        "#             num = 0 - num\n",
        "        nls.append(num)\n",
        "        if i == int(cts):\n",
        "            nls.remove(num)\n",
        "            num = \"\"\n",
        "        print(\"\\r{}\".format(num), end=\"\")\n",
        "        sleep(dtime)\n",
        "        print(\"\\r{}\".format(\"\"), end=\"\")\n",
        "        sleep(0.35)\n",
        "    ans = sum(nls)\n",
        "    als = []\n",
        "    als.append(ans)\n",
        "    chls = []\n",
        "    for i in range(len(nls)):\n",
        "        if nls.count(i) > 0:\n",
        "            n1 = nls.count(i)\n",
        "            nans = ans - (n1 * nls[i])\n",
        "            als.append(nans)\n",
        "    tb = tm.time()\n",
        "    pans = input(\"answer: \")\n",
        "    ta = tm.time()\n",
        "    nt = ta - tb\n",
        "    \n",
        "    # 未入力時の処理\n",
        "    if pans == \"\":\n",
        "        wctr += 1\n",
        "        print(\"Answer: \", ans)\n",
        "        print(\"list: \", nls)\n",
        "        print()\n",
        "        tpls.append(0)\n",
        "        rpls.append(0)\n",
        "    # 正解時の処理\n",
        "    elif ans == int(pans):\n",
        "        rctr += 1\n",
        "        print(\"Answer: \", ans)\n",
        "        print(\"list: \", nls)\n",
        "        print(nt)\n",
        "        print()\n",
        "        if nt < 2.5:\n",
        "            nt = 2.5\n",
        "        tpls.append(50 - ((nt - 2.5) * 5))\n",
        "        rpls.append(50)\n",
        "    # 不正解時の処理\n",
        "    else:\n",
        "        wctr += 1\n",
        "        print(\"Answer: \", ans)\n",
        "        print(\"list: \", nls)\n",
        "        print(nt)\n",
        "        print()\n",
        "        if nt < 2.5:\n",
        "            nt = 2.5\n",
        "        tpls.append(50 - ((nt - 2.5) * 5))\n",
        "        if abs(ans - int(pans)) <= 11:\n",
        "            rpls.append(50 - 5)\n",
        "        else:\n",
        "            rpls.append(50 - (abs(ans - int(pans)) * (1/2) - (1/2)))\n",
        "    sleep(3)\n",
        "ptls = []\n",
        "for i in range(int(time)):\n",
        "    ptls.append(tpls[i] + rpls[i])\n",
        "    print(\"\\r{}\".format(\"please wait...\"), end=\"\")\n",
        "    sleep(0.75)\n",
        "    print(\"\\r{}\".format(\"\"), end=\"\")\n",
        "    sleep(0.25)\n",
        "\n",
        "print()\n",
        "print(\"Right: \", rctr)\n",
        "print(\"Wrong: \", wctr)\n",
        "print((rctr/(rctr+wctr)) * 100, \"/100\")\n",
        "print(sum(ptls) / int(time))"
      ],
      "execution_count": 0,
      "outputs": [
        {
          "output_type": "stream",
          "text": [
            "type(list/flash/field): flash\n",
            "level(1~10/option/field): option\n",
            "input display time: 0.3\n",
            "digits: 2\n",
            "count: 15\n",
            "time: 3\n",
            "Game will start soon...\n",
            "4"
          ],
          "name": "stdout"
        }
      ]
    },
    {
      "cell_type": "code",
      "metadata": {
        "colab_type": "code",
        "outputId": "e5171c3c-342e-4099-d34c-9620f4c19c78",
        "id": "6Y37AICgg347",
        "colab": {
          "base_uri": "https://localhost:8080/",
          "height": 53
        }
      },
      "source": [
        "#rot13\n",
        "a0 = [\"a\", \"b\", \"c\", \"d\", \"e\", \"f\", \"g\", \"h\", \"i\", \"j\", \"k\", \"l\", \"m\", \"n\", \"o\", \"p\", \"q\", \"r\", \"s\", \"t\", \"u\", \"v\", \"w\", \"x\", \"y\", \"z\", \".\", \",\", \" \", \"_\", \":\", \"/\", \";\", \"0\", \"1\", \"2\", \"3\", \"4\", \"5\", \"6\", \"7\", \"8\", \"9\", \"-\", \"*\", \"+\"]\n",
        "a13 = [\"n\", \"o\", \"p\", \"q\", \"r\", \"s\", \"t\", \"u\", \"v\", \"w\", \"x\", \"y\", \"z\", \"a\", \"b\", \"c\", \"d\", \"e\", \"f\", \"g\", \"h\", \"i\", \"j\", \"k\", \"l\", \"m\", \".\", \",\", \" \", \"_\", \":\", \"/\", \";\", \"0\", \"1\", \"2\", \"3\", \"4\", \"5\", \"6\", \"7\", \"8\", \"9\", \"-\", \"*\", \"+\"]\n",
        "ls = [c for c in input()]\n",
        "for i in range(len(ls)):\n",
        "    print(a13[a0.index(ls[i])], end=\"\")"
      ],
      "execution_count": 0,
      "outputs": [
        {
          "output_type": "stream",
          "text": [
            "ongfhtr-zhabanxnzv\n",
            "batsuge-munonakami"
          ],
          "name": "stdout"
        }
      ]
    },
    {
      "cell_type": "code",
      "metadata": {
        "id": "j58y6Joe2cPr",
        "colab_type": "code",
        "colab": {}
      },
      "source": [
        "\n",
        "import random as rdm\n",
        "import time as tm\n",
        "def move(x):\n",
        "    lso1 = []\n",
        "    for i in range(len(x)):\n",
        "        if x[i] == lv:\n",
        "            lso1.append(i)\n",
        "    x.append(nn)\n",
        "    for i in lso1:\n",
        "        if x[i + 1] == nn:\n",
        "            x[i + 1] = lv\n",
        "            x[i] = nn\n",
        "    del(x[-1])\n",
        "    return\n",
        "ls = []\n",
        "lv = \"■\"\n",
        "nn = \"□\"\n",
        "for i in range(25):\n",
        "    a = rdm.randint(0, 1)\n",
        "    if a == 1:\n",
        "        ls.append(lv)\n",
        "    else:\n",
        "        ls.append(nn)\n",
        "print(\"bf\", ls)\n",
        "i = 1\n",
        "while ls.count(lv) > 0:\n",
        "    tm.sleep(0.5)\n",
        "    move(ls)\n",
        "    print(\"\\r{}\".format(str(i).zfill(2) + str(ls)), end=\"\")\n",
        "#     print(str(i).zfill(2), ls)\n",
        "    i += 1\n",
        "    "
      ],
      "execution_count": 0,
      "outputs": []
    },
    {
      "cell_type": "code",
      "metadata": {
        "id": "GwI8ikLikQkW",
        "colab_type": "code",
        "outputId": "87c31add-5c5e-408f-d584-b233f4b8e90a",
        "colab": {
          "base_uri": "https://localhost:8080/",
          "height": 35
        }
      },
      "source": [
        "print([c for c in range(11, 101) if c%2!=0 and c%3!=0 and c%5!=0 and c% 7!=0])"
      ],
      "execution_count": 0,
      "outputs": [
        {
          "output_type": "stream",
          "text": [
            "[11, 13, 17, 19, 23, 29, 31, 37, 41, 43, 47, 53, 59, 61, 67, 71, 73, 79, 83, 89, 97]\n"
          ],
          "name": "stdout"
        }
      ]
    },
    {
      "cell_type": "code",
      "metadata": {
        "id": "UhfhX-rRGDJT",
        "colab_type": "code",
        "colab": {}
      },
      "source": [
        "import cmath as cm\n",
        "print((-3 + 4j) ** 0.5)\n",
        "# (1.0000000000000002+2j)\n",
        "\n",
        "print((-1) ** 0.5)\n",
        "# (6.123233995736766e-17+1j)\n",
        "\n",
        "print(cmath.sqrt(-3 + 4j))\n",
        "# (1+2j)\n",
        "\n",
        "print(cmath.sqrt(-1))\n",
        "# 1j\n",
        "\n",
        "print(cm.sqrt(-3))"
      ],
      "execution_count": 0,
      "outputs": []
    },
    {
      "cell_type": "code",
      "metadata": {
        "id": "ur0j9l_xAMX2",
        "colab_type": "code",
        "colab": {}
      },
      "source": [
        "c = 1j\n",
        "\n",
        "print(c)\n",
        "print(type(c))\n",
        "print(c**2)\n",
        "import math as mt\n",
        "mt.gcd(278, 169) # 最大公約数"
      ],
      "execution_count": 0,
      "outputs": []
    },
    {
      "cell_type": "code",
      "metadata": {
        "id": "buRFepCvXYzs",
        "colab_type": "code",
        "outputId": "90b0ca39-760b-4e10-ce67-445740dbc7ad",
        "colab": {
          "base_uri": "https://localhost:8080/",
          "height": 396
        }
      },
      "source": [
        "# 積分--わかりやすく\n",
        "# もととなるグラフ\n",
        "import numpy as np\n",
        "import matplotlib.pyplot as plt\n",
        "plt.figure(figsize=(6, 6))\n",
        "w = np.pi / 100\n",
        "x0 = np.arange(-0 * np.pi, 1 * np.pi, 0.01) #折れ線\n",
        "x1 = np.arange(-0 * np.pi, 1 * np.pi, w) #棒\n",
        "y0 = np.sin(x0) # 折れ線\n",
        "y1 = np.sin(x1) # 棒\n",
        "plt.plot(x0, y0 ,color=\"deepskyblue\", linewidth=\"2.0\") #折れ線グラフ\n",
        "plt.bar(x1, y1, width=w, color=\"gray\") # 棒グラフ\n",
        "plt.grid(color='gray') # グリッド\n",
        "plt.show()\n",
        "# 積分計算(求積)\n",
        "dx = w\n",
        "s = 0\n",
        "for i in range(len(y1)):\n",
        "    s += dx * y1[i]\n",
        "#     print(s, dx * y1[i])\n",
        "print(s)"
      ],
      "execution_count": 0,
      "outputs": [
        {
          "output_type": "display_data",
          "data": {
            "image/png": "[encoded data removed]",
            "text/plain": [
              "<Figure size 432x432 with 1 Axes>"
            ]
          },
          "metadata": {
            "tags": []
          }
        },
        {
          "output_type": "stream",
          "text": [
            "1.9998355038874436\n"
          ],
          "name": "stdout"
        }
      ]
    },
    {
      "cell_type": "code",
      "metadata": {
        "id": "17JggbQ2X8AC",
        "colab_type": "code",
        "colab": {}
      },
      "source": [
        "# Unicode暗号化\n",
        "l = list(map(ord, [c for c in input()]))\n",
        "def p(x):\n",
        "    return(x - 304)\n",
        "print(list(map(p, l)))"
      ],
      "execution_count": 0,
      "outputs": []
    },
    {
      "cell_type": "code",
      "metadata": {
        "id": "B1bb5afldnqx",
        "colab_type": "code",
        "outputId": "9cc62e7c-afeb-47c1-8016-869fcd0224c9",
        "colab": {
          "base_uri": "https://localhost:8080/",
          "height": 35
        }
      },
      "source": [
        "ls = [2, 5, 3, 1, 4]\n",
        "def a(x):\n",
        "    return(x + 5)\n",
        "print(list(map(a, ls)))"
      ],
      "execution_count": 0,
      "outputs": [
        {
          "output_type": "stream",
          "text": [
            "[7, 10, 8, 6, 9]\n"
          ],
          "name": "stdout"
        }
      ]
    },
    {
      "cell_type": "code",
      "metadata": {
        "id": "zbQkHtjBWPVD",
        "colab_type": "code",
        "colab": {}
      },
      "source": [
        "# Unicode復号\n",
        "l = # Unicode配列\n",
        "ls = list(map(chr, l))\n",
        "print(\"\".join(ls))"
      ],
      "execution_count": 0,
      "outputs": []
    },
    {
      "cell_type": "code",
      "metadata": {
        "id": "OtB9QcxKd_kn",
        "colab_type": "code",
        "colab": {}
      },
      "source": [
        "#Unicode復号ver2\n",
        "l = [25839, 31050, 34947, 23215, 12087, 11985, 30865, 12121, 12094, 19910, 12087, 30038, 12069, 12131, 12059, 12121, 12052, 12125, 12052, 12125, 35024, 12127, 12124, 12077, 12054, 12087, 12073, 12120, 12093, 65077, 65077, 65077, 11986]\n",
        "def d(x):\n",
        "    return(x + 304) # 304は鍵キー\n",
        "l1 = list(map(d, l))\n",
        "l2 = list(map(chr, l1))\n",
        "print(\"\".join(l2))"
      ],
      "execution_count": 0,
      "outputs": []
    },
    {
      "cell_type": "code",
      "metadata": {
        "id": "F0SQQfS8kIL8",
        "colab_type": "code",
        "outputId": "3834fd41-f800-4717-9e18-2a88c7b69a42",
        "colab": {
          "base_uri": "https://localhost:8080/",
          "height": 73
        }
      },
      "source": [
        "# URLJapaneseエンコード\n",
        "import urllib.parse\n",
        "s = input()\n",
        "s_quote = urllib.parse.quote(s)\n",
        "print(s_quote)"
      ],
      "execution_count": 0,
      "outputs": [
        {
          "output_type": "stream",
          "text": [
            "%e7%9b%ae%e3%81%ae%e5%89%8d%e3%81%ab%e6%b2%a2%e5%b1%b1%e3%81%ae%e9%bb%84%e8%89%b2%e3%81%84%e3%83%90%e3%83%a9%e3%81%8c%e3%81%82%e3%81%a3%e3%81%a6%e3%82%82%e3%80%81%e7%a7%81%e3%81%af%e3%81%82%e3%81%aa%e3%81%9f%e3%81%ab%e4%b8%80%e6%9c%ac%e3%81%ae%e8%b5%a4%e3%81%84%e3%83%90%e3%83%a9%e3%82%92%e8%b4%88%e3%82%8a%e3%81%be%e3%81%99%e3%80%82\n",
            "%25e7%259b%25ae%25e3%2581%25ae%25e5%2589%258d%25e3%2581%25ab%25e6%25b2%25a2%25e5%25b1%25b1%25e3%2581%25ae%25e9%25bb%2584%25e8%2589%25b2%25e3%2581%2584%25e3%2583%2590%25e3%2583%25a9%25e3%2581%258c%25e3%2581%2582%25e3%2581%25a3%25e3%2581%25a6%25e3%2582%2582%25e3%2580%2581%25e7%25a7%2581%25e3%2581%25af%25e3%2581%2582%25e3%2581%25aa%25e3%2581%259f%25e3%2581%25ab%25e4%25b8%2580%25e6%259c%25ac%25e3%2581%25ae%25e8%25b5%25a4%25e3%2581%2584%25e3%2583%2590%25e3%2583%25a9%25e3%2582%2592%25e8%25b4%2588%25e3%2582%258a%25e3%2581%25be%25e3%2581%2599%25e3%2580%2582\n"
          ],
          "name": "stdout"
        }
      ]
    },
    {
      "cell_type": "code",
      "metadata": {
        "id": "-uajfDt7oY5e",
        "colab_type": "code",
        "outputId": "1d27af73-78c8-4120-f535-a392db084289",
        "colab": {
          "base_uri": "https://localhost:8080/",
          "height": 73
        }
      },
      "source": [
        "# URLJapaneseデコード\n",
        "import urllib.parse\n",
        "print(urllib.parse.unquote(input()))"
      ],
      "execution_count": 0,
      "outputs": [
        {
          "output_type": "stream",
          "text": [
            "%e7%9b%ae%e3%81%ae%e5%89%8d%e3%81%ab%e6%b2%a2%e5%b1%b1%e3%81%ae%e9%bb%84%e8%89%b2%e3%81%84%e3%83%90%e3%83%a9%e3%81%8c%e3%81%82%e3%81%a3%e3%81%a6%e3%82%82%e3%80%81%e7%a7%81%e3%81%af%e3%81%82%e3%81%aa%e3%81%9f%e3%81%ab%e4%b8%80%e6%9c%ac%e3%81%ae%e8%b5%a4%e3%81%84%e3%83%90%e3%83%a9%e3%82%92%e8%b4%88%e3%82%8a%e3%81%be%e3%81%99%e3%80%82\n",
            "目の前に沢山の黄色いバラがあっても、私はあなたに一本の赤いバラを贈ります。\n"
          ],
          "name": "stdout"
        }
      ]
    },
    {
      "cell_type": "code",
      "metadata": {
        "id": "cH2CBqknqH0B",
        "colab_type": "code",
        "colab": {}
      },
      "source": [
        "l = \"%e7%9b%ae%e3%81%ae%e5%89%8d%e3%81%ab%e6%b2%a2%e5%b1%b1%e3%81%ae%e9%bb%84%e8%89%b2%e3%81%84%e3%83%90%e3%83%a9%e3%81%8c%e3%81%82%e3%81%a3%e3%81%a6%e3%82%82%e3%80%81%e7%a7%81%e3%81%af%e3%81%82%e3%81%aa%e3%81%9f%e3%81%ab%e4%b8%80%e6%9c%ac%e3%81%ae%e8%b5%a4%e3%81%84%e3%83%90%e3%83%a9%e3%82%92%e8%b4%88%e3%82%8a%e3%81%be%e3%81%99%e3%80%82\".split(\"%\")\n",
        "print(\"\".join(l))"
      ],
      "execution_count": 0,
      "outputs": []
    },
    {
      "cell_type": "code",
      "metadata": {
        "id": "JsIVFwNyqpvz",
        "colab_type": "code",
        "colab": {}
      },
      "source": [
        "# 10進数 => n進数変換(n <= 36)\n",
        "dgt = 0\n",
        "n = int(input(\"Enter n: \"))\n",
        "num = int(input(\"Enter number: \"))\n",
        "while num >= (n ** dgt):\n",
        "    dgt += 1\n",
        "# print(dgt)\n",
        "a = []\n",
        "for i in sorted(list(range(dgt)), reverse=True):\n",
        "    d = num // (n ** i)\n",
        "    a.append(d)\n",
        "    num = num - d * (n ** i)\n",
        "# print(a)\n",
        "def fix(x):\n",
        "    l = [\"0\", \"1\", \"2\", \"3\", \"4\", \"5\", \"6\", \"7\", \"8\", \"9\", \"a\", \"b\", \"c\", \"d\", \"e\", \"f\", \"g\", \"h\", \"i\", \"j\", \"k\", \"l\", \"m\", \"n\", \"o\", \"p\", \"q\", \"r\", \"s\", \"t\", \"u\", \"v\", \"w\", \"x\", \"y\", \"z\"]\n",
        "    return l[x]\n",
        "print(\"\".join(list(map(fix, a))))"
      ],
      "execution_count": 0,
      "outputs": []
    },
    {
      "cell_type": "code",
      "metadata": {
        "id": "pZ74Od2BjTDy",
        "colab_type": "code",
        "colab": {}
      },
      "source": [
        "# URL←%結合←rot13←Unicode←キー値←5文字区切り←36進数から10進数←Unicode\n",
        "# "
      ],
      "execution_count": 0,
      "outputs": []
    },
    {
      "cell_type": "code",
      "metadata": {
        "id": "CLBrxk6xpx5s",
        "colab_type": "code",
        "colab": {}
      },
      "source": [
        "\"\"\"暗号化ツールplus_ver2.0.5\"\"\"\n",
        "import urllib.parse as urp\n",
        "# rot13\n",
        "def rot13(x):\n",
        "    a0 = [\"a\", \"b\", \"c\", \"d\", \"e\", \"f\", \"g\", \"h\", \"i\", \"j\", \"k\", \"l\", \"m\", \"n\", \"o\", \"p\", \"q\", \"r\", \"s\", \"t\", \"u\", \"v\", \"w\", \"x\", \"y\", \"z\", \".\", \",\", \" \", \"_\", \":\", \"/\", \";\", \"0\", \"1\", \"2\", \"3\", \"4\", \"5\", \"6\", \"7\", \"8\", \"9\", \"-\", \"*\", \"+\"]\n",
        "    a13 = [\"n\", \"o\", \"p\", \"q\", \"r\", \"s\", \"t\", \"u\", \"v\", \"w\", \"x\", \"y\", \"z\", \"a\", \"b\", \"c\", \"d\", \"e\", \"f\", \"g\", \"h\", \"i\", \"j\", \"k\", \"l\", \"m\", \".\", \",\", \" \", \"_\", \":\", \"/\", \";\", \"0\", \"1\", \"2\", \"3\", \"4\", \"5\", \"6\", \"7\", \"8\", \"9\", \"-\", \"*\", \"+\"]\n",
        "    ls = [c for c in x]\n",
        "    l1 = []\n",
        "    for i in range(len(ls)):\n",
        "        l1.append(a13[a0.index(ls[i])])\n",
        "    return(\"\".join(l1))\n",
        "# マイナスキー値\n",
        "def keym(x):\n",
        "    return(x - 10868) # 10868はキー値\n",
        "# プラスキー値\n",
        "def keyp(x):\n",
        "    return(x + 10868) # 10868はキー値\n",
        "# 10進数→36進数\n",
        "def fix10_36(x):\n",
        "    dgt = 0\n",
        "    num = x\n",
        "    while num >= (36 ** dgt):\n",
        "        dgt += 1\n",
        "    a = []\n",
        "    for i in sorted(list(range(dgt)), reverse=True):\n",
        "        d = num // (36 ** i)\n",
        "        a.append(d)\n",
        "        num -= d * (36 ** i)\n",
        "    def fix(v):\n",
        "        l = [\"0\", \"1\", \"2\", \"3\", \"4\", \"5\", \"6\", \"7\", \"8\", \"9\", \"a\", \"b\", \"c\", \"d\", \"e\", \"f\", \"g\", \"h\", \"i\", \"j\", \"k\", \"l\", \"m\", \"n\", \"o\", \"p\", \"q\", \"r\", \"s\", \"t\", \"u\", \"v\", \"w\", \"x\", \"y\", \"z\"]\n",
        "        return(l[v])\n",
        "    return(\"\".join(list(map(fix, a))))\n",
        "# 36進数→10進数\n",
        "def fix36_10(x):\n",
        "    def dec(w):\n",
        "        l01 = [\"0\", \"1\", \"2\", \"3\", \"4\", \"5\", \"6\", \"7\", \"8\", \"9\", \"a\", \"b\", \"c\", \"d\", \"e\", \"f\", \"g\", \"h\", \"i\", \"j\", \"k\", \"l\", \"m\", \"n\", \"o\", \"p\", \"q\", \"r\", \"s\", \"t\", \"u\", \"v\", \"w\", \"x\", \"y\", \"z\"]\n",
        "        return(l01.index(w))\n",
        "    xl = [c for c in x]\n",
        "    dgt = len(xl)\n",
        "    ans = 0\n",
        "    for i in sorted(list(range(dgt)), reverse=True):\n",
        "        ans += dec(xl[(dgt - 1) - i]) * (36 ** (i))\n",
        "    return(ans)\n",
        "# Unicode変換\n",
        "def enu(x):\n",
        "    return(ord(x))\n",
        "# Unicode復号\n",
        "def deu(x):\n",
        "    return(chr(x))\n",
        "# URL変換\n",
        "def urle(x):\n",
        "    return(urp.quote(x))\n",
        "# URL復号\n",
        "def urld(x):\n",
        "    return(urp.unquote(x))\n",
        "# 大文字小文字変換\n",
        "def fixchr(x):\n",
        "    l = [c for c in \"abcdefghijklmnopqrstuvwxyzABCDEFGHIJKLMNOPQRSTUVWXYZ\"]\n",
        "    for i in range(len(x)):\n",
        "        try:\n",
        "            int(x[i])\n",
        "        except:\n",
        "            try:\n",
        "                l.index(x[i])\n",
        "            except:\n",
        "                return(x[i])\n",
        "            else:\n",
        "                a = l.index(x[i]) + 26\n",
        "                if a >= 52:\n",
        "                    return(l[a - 52])\n",
        "                else:\n",
        "                    return(l[a])\n",
        "        else:\n",
        "            return(int(x[i]))\n",
        "# 文字列2文字区切り\n",
        "def split2(x):\n",
        "    return(list(map(str, [x[i: i+2] for i in range(0, len(x), 2)])))\n",
        "# 文字列5文字区切り\n",
        "def split5(x):\n",
        "    return(list(map(str, [x[i: i+5] for i in range(0, len(x), 5)])))"
      ],
      "execution_count": 0,
      "outputs": []
    },
    {
      "cell_type": "code",
      "metadata": {
        "id": "a_KJugMZUAN9",
        "colab_type": "code",
        "outputId": "fd13f0c7-e3a4-4aa3-b93c-649006b07ca1",
        "colab": {
          "base_uri": "https://localhost:8080/",
          "height": 163
        }
      },
      "source": [
        "# 解読: Unicodeキー値復号←5文字刻み←36to10←rot13←Unicode復号\n",
        "# 作成: Unicodeキー値変換→.join結合→10to36→rot13→Unicode変換\n",
        "# 付属解読: Unicode復号\n",
        "# 付属作成: Unicode変換\n",
        "# 伝言解読: URL復号←2文字刻み%結合\n",
        "# 伝言作成: URL変換→刻み%.join結合\n",
        "\n",
        "key = 10868\n",
        "# 付属\n",
        "print(\"付属:\", list(map(enu, \"キー値は「十進数変換でマイナス8dw」\")))\n",
        "# 本編\n",
        "bef = \"メッセージ･･･e38193e381aee383a1e38383e382bbe383bce382b8e38292e8a7a3e38184e3819fe4babae381abe7a59de7a68fe3818ce38182e38289e38293e38193e381a8e38292\"\n",
        "# Unicode化\n",
        "a = list(map(enu, [c for c in bef]))\n",
        "print(\"a\", a)\n",
        "# キー値導入(+)\n",
        "b = list(map(keyp, a))\n",
        "print(\"b\", b)\n",
        "# .join結合\n",
        "c = list(map(str, b))\n",
        "d = \"\".join(c)\n",
        "print(\"d\", d)\n",
        "# 36進数化\n",
        "e = fix10_36(int(d))\n",
        "print(e)\n",
        "# rot13\n",
        "f = rot13(e)\n",
        "print(f)\n",
        "# Unicode化\n",
        "g = list(map(enu, [c for c in f]))\n",
        "print(g)"
      ],
      "execution_count": 0,
      "outputs": [
        {
          "output_type": "stream",
          "text": [
            "付属: [12461, 12540, 20516, 12399, 12300, 21313, 36914, 25968, 22793, 25563, 12391, 12510, 12452, 12490, 12473, 56, 100, 119, 12301]\n",
            "a [12513, 12483, 12475, 12540, 12472, 65381, 65381, 65381, 101, 51, 56, 49, 57, 51, 101, 51, 56, 49, 97, 101, 101, 51, 56, 51, 97, 49, 101, 51, 56, 51, 56, 51, 101, 51, 56, 50, 98, 98, 101, 51, 56, 51, 98, 99, 101, 51, 56, 50, 98, 56, 101, 51, 56, 50, 57, 50, 101, 56, 97, 55, 97, 51, 101, 51, 56, 49, 56, 52, 101, 51, 56, 49, 57, 102, 101, 52, 98, 97, 98, 97, 101, 51, 56, 49, 97, 98, 101, 55, 97, 53, 57, 100, 101, 55, 97, 54, 56, 102, 101, 51, 56, 49, 56, 99, 101, 51, 56, 49, 56, 50, 101, 51, 56, 50, 56, 57, 101, 51, 56, 50, 57, 51, 101, 51, 56, 49, 57, 51, 101, 51, 56, 49, 97, 56, 101, 51, 56, 50, 57, 50]\n",
            "b [23381, 23351, 23343, 23408, 23340, 76249, 76249, 76249, 10969, 10919, 10924, 10917, 10925, 10919, 10969, 10919, 10924, 10917, 10965, 10969, 10969, 10919, 10924, 10919, 10965, 10917, 10969, 10919, 10924, 10919, 10924, 10919, 10969, 10919, 10924, 10918, 10966, 10966, 10969, 10919, 10924, 10919, 10966, 10967, 10969, 10919, 10924, 10918, 10966, 10924, 10969, 10919, 10924, 10918, 10925, 10918, 10969, 10924, 10965, 10923, 10965, 10919, 10969, 10919, 10924, 10917, 10924, 10920, 10969, 10919, 10924, 10917, 10925, 10970, 10969, 10920, 10966, 10965, 10966, 10965, 10969, 10919, 10924, 10917, 10965, 10966, 10969, 10923, 10965, 10921, 10925, 10968, 10969, 10923, 10965, 10922, 10924, 10970, 10969, 10919, 10924, 10917, 10924, 10967, 10969, 10919, 10924, 10917, 10924, 10918, 10969, 10919, 10924, 10918, 10924, 10925, 10969, 10919, 10924, 10918, 10925, 10919, 10969, 10919, 10924, 10917, 10925, 10919, 10969, 10919, 10924, 10917, 10965, 10924, 10969, 10919, 10924, 10918, 10925, 10918]\n",
            "d 2338123351233432340823340762497624976249109691091910924109171092510919109691091910924109171096510969109691091910924109191096510917109691091910924109191092410919109691091910924109181096610966109691091910924109191096610967109691091910924109181096610924109691091910924109181092510918109691092410965109231096510919109691091910924109171092410920109691091910924109171092510970109691092010966109651096610965109691091910924109171096510966109691092310965109211092510968109691092310965109221092410970109691091910924109171092410967109691091910924109171092410918109691091910924109181092410925109691091910924109181092510919109691091910924109171092510919109691091910924109171096510924109691091910924109181092510918\n",
            "3vqy0tls346ksovm4gikbqotktr3ajovq55hlahb4cjldozcglr33aq8f0x8xhghm7ls332yjte8ikgc58m7bxrkba57v8896v5i1x493vhnj2z96ow2f46qt5opo0pxuz3xjiy4162fdjymqd9cbw3xign6omu9ewptapxwxyhbzcj99by1vvwy1l70sfjkcszciu5zhvm816a94rz59ux9i5zwmbyh2j41obd5qltwbco1m4svvk7ewsv0xhwvt7j8htn5fhc83v4o43hp7br6lfgxgn69oj0o6w8zfmseon69xd6qcba9ejsh04eyazqyyjgk697qovdj5edb3tztbrvc870kxlkti1kvm8epsih8ez1dw38qburx7ceynqzboe869v6gssxm4ob7amigoupvy1mv6vzbu1vcwu8bsrv2nfz726o2du7v0wiuva\n",
            "3idl0gyf346xfbiz4tvxodbgxge3nwbid55uynuo4pwyqbmptye33nd8s0k8kutuz7yf332lwgr8vxtp58z7okexon57i8896i5v1k493iuaw2m96bj2s46dg5bcb0ckhm3kwvl4162sqwlzdq9poj3kvta6bzh9rjcgnckjkluompw99ol1iijl1y70fswxpfmpvh5muiz816n94em59hk9v5mjzolu2w41boq5dygjopb1z4fiix7rjfi0kujig7w8uga5sup83i4b43uc7oe6ystkta69bw0b6j8mszfrba69kq6dpon9rwfu04rlnmdllwtx697dbiqw5rqo3gmgoeip870xkyxgv1xiz8rcfvu8rm1qj38dohek7prladmobr869i6tffkz4bo7nzvtbhcil1zi6imoh1ipjh8ofei2asm726b2qh7i0jvhin\n",
            "[51, 105, 100, 108, 48, 103, 121, 102, 51, 52, 54, 120, 102, 98, 105, 122, 52, 116, 118, 120, 111, 100, 98, 103, 120, 103, 101, 51, 110, 119, 98, 105, 100, 53, 53, 117, 121, 110, 117, 111, 52, 112, 119, 121, 113, 98, 109, 112, 116, 121, 101, 51, 51, 110, 100, 56, 115, 48, 107, 56, 107, 117, 116, 117, 122, 55, 121, 102, 51, 51, 50, 108, 119, 103, 114, 56, 118, 120, 116, 112, 53, 56, 122, 55, 111, 107, 101, 120, 111, 110, 53, 55, 105, 56, 56, 57, 54, 105, 53, 118, 49, 107, 52, 57, 51, 105, 117, 97, 119, 50, 109, 57, 54, 98, 106, 50, 115, 52, 54, 100, 103, 53, 98, 99, 98, 48, 99, 107, 104, 109, 51, 107, 119, 118, 108, 52, 49, 54, 50, 115, 113, 119, 108, 122, 100, 113, 57, 112, 111, 106, 51, 107, 118, 116, 97, 54, 98, 122, 104, 57, 114, 106, 99, 103, 110, 99, 107, 106, 107, 108, 117, 111, 109, 112, 119, 57, 57, 111, 108, 49, 105, 105, 106, 108, 49, 121, 55, 48, 102, 115, 119, 120, 112, 102, 109, 112, 118, 104, 53, 109, 117, 105, 122, 56, 49, 54, 110, 57, 52, 101, 109, 53, 57, 104, 107, 57, 118, 53, 109, 106, 122, 111, 108, 117, 50, 119, 52, 49, 98, 111, 113, 53, 100, 121, 103, 106, 111, 112, 98, 49, 122, 52, 102, 105, 105, 120, 55, 114, 106, 102, 105, 48, 107, 117, 106, 105, 103, 55, 119, 56, 117, 103, 97, 53, 115, 117, 112, 56, 51, 105, 52, 98, 52, 51, 117, 99, 55, 111, 101, 54, 121, 115, 116, 107, 116, 97, 54, 57, 98, 119, 48, 98, 54, 106, 56, 109, 115, 122, 102, 114, 98, 97, 54, 57, 107, 113, 54, 100, 112, 111, 110, 57, 114, 119, 102, 117, 48, 52, 114, 108, 110, 109, 100, 108, 108, 119, 116, 120, 54, 57, 55, 100, 98, 105, 113, 119, 53, 114, 113, 111, 51, 103, 109, 103, 111, 101, 105, 112, 56, 55, 48, 120, 107, 121, 120, 103, 118, 49, 120, 105, 122, 56, 114, 99, 102, 118, 117, 56, 114, 109, 49, 113, 106, 51, 56, 100, 111, 104, 101, 107, 55, 112, 114, 108, 97, 100, 109, 111, 98, 114, 56, 54, 57, 105, 54, 116, 102, 102, 107, 122, 52, 98, 111, 55, 110, 122, 118, 116, 98, 104, 99, 105, 108, 49, 122, 105, 54, 105, 109, 111, 104, 49, 105, 112, 106, 104, 56, 111, 102, 101, 105, 50, 97, 115, 109, 55, 50, 54, 98, 50, 113, 104, 55, 105, 48, 106, 118, 104, 105, 110]\n"
          ],
          "name": "stdout"
        }
      ]
    },
    {
      "cell_type": "code",
      "metadata": {
        "id": "FoQaNCyzt0P1",
        "colab_type": "code",
        "outputId": "0c0432df-b583-40c2-e689-3d7161c49c1c",
        "colab": {
          "base_uri": "https://localhost:8080/",
          "height": 217
        }
      },
      "source": [
        "# 解読編\n",
        "l = [51, 105, 100, 108, 48, 103, 121, 102, 51, 52, 54, 120, 102, 98, 105, 122, 52, 116, 118, 120, 111, 100, 98, 103, 120, 103, 101, 51, 110, 119, 98, 105, 100, 53, 53, 117, 121, 110, 117, 111, 52, 112, 119, 121, 113, 98, 109, 112, 116, 121, 101, 51, 51, 110, 100, 56, 115, 48, 107, 56, 107, 117, 116, 117, 122, 55, 121, 102, 51, 51, 50, 108, 119, 103, 114, 56, 118, 120, 116, 112, 53, 56, 122, 55, 111, 107, 101, 120, 111, 110, 53, 55, 105, 56, 56, 57, 54, 105, 53, 118, 49, 107, 52, 57, 51, 105, 117, 97, 119, 50, 109, 57, 54, 98, 106, 50, 115, 52, 54, 100, 103, 53, 98, 99, 98, 48, 99, 107, 104, 109, 51, 107, 119, 118, 108, 52, 49, 54, 50, 115, 113, 119, 108, 122, 100, 113, 57, 112, 111, 106, 51, 107, 118, 116, 97, 54, 98, 122, 104, 57, 114, 106, 99, 103, 110, 99, 107, 106, 107, 108, 117, 111, 109, 112, 119, 57, 57, 111, 108, 49, 105, 105, 106, 108, 49, 121, 55, 48, 102, 115, 119, 120, 112, 102, 109, 112, 118, 104, 53, 109, 117, 105, 122, 56, 49, 54, 110, 57, 52, 101, 109, 53, 57, 104, 107, 57, 118, 53, 109, 106, 122, 111, 108, 117, 50, 119, 52, 49, 98, 111, 113, 53, 100, 121, 103, 106, 111, 112, 98, 49, 122, 52, 102, 105, 105, 120, 55, 114, 106, 102, 105, 48, 107, 117, 106, 105, 103, 55, 119, 56, 117, 103, 97, 53, 115, 117, 112, 56, 51, 105, 52, 98, 52, 51, 117, 99, 55, 111, 101, 54, 121, 115, 116, 107, 116, 97, 54, 57, 98, 119, 48, 98, 54, 106, 56, 109, 115, 122, 102, 114, 98, 97, 54, 57, 107, 113, 54, 100, 112, 111, 110, 57, 114, 119, 102, 117, 48, 52, 114, 108, 110, 109, 100, 108, 108, 119, 116, 120, 54, 57, 55, 100, 98, 105, 113, 119, 53, 114, 113, 111, 51, 103, 109, 103, 111, 101, 105, 112, 56, 55, 48, 120, 107, 121, 120, 103, 118, 49, 120, 105, 122, 56, 114, 99, 102, 118, 117, 56, 114, 109, 49, 113, 106, 51, 56, 100, 111, 104, 101, 107, 55, 112, 114, 108, 97, 100, 109, 111, 98, 114, 56, 54, 57, 105, 54, 116, 102, 102, 107, 122, 52, 98, 111, 55, 110, 122, 118, 116, 98, 104, 99, 105, 108, 49, 122, 105, 54, 105, 109, 111, 104, 49, 105, 112, 106, 104, 56, 111, 102, 101, 105, 50, 97, 115, 109, 55, 50, 54, 98, 50, 113, 104, 55, 105, 48, 106, 118, 104, 105, 110]\n",
        "# Unicode復号\n",
        "m = \"\".join(list(map(deu, l)))\n",
        "print(m)\n",
        "# rot13\n",
        "n = rot13(m)\n",
        "print(n)\n",
        "# print(type(n)) => <class 'str'>\n",
        "# 36進数→10進数\n",
        "o = fix36_10(n)\n",
        "print(o)\n",
        "# 文字列5文字区切り\n",
        "p = split5(str(o))\n",
        "print(p)\n",
        "# キー値適用\n",
        "q = list(map(int, p))\n",
        "r = list(map(keym, q))\n",
        "print(r)\n",
        "# Unicode復号\n",
        "s = list(map(deu, r))\n",
        "t = \"\".join(s)\n",
        "print(t)\n",
        "# メッセージ2文字区切り\n",
        "u = split2(\"e38193e381aee383a1e38383e382bbe383bce382b8e38292e8a7a3e38184e3819fe4babae381abe7a59de7a68fe3818ce38182e38289e38293e38193e381a8e38292\")\n",
        "print(u)\n",
        "# %結合\n",
        "v = \"%\" + \"%\".join(u)\n",
        "print(v)\n",
        "# URLデコード\n",
        "print(urld(v))\n",
        "\n",
        "w = list(map(deu, q))\n",
        "print(w)"
      ],
      "execution_count": 0,
      "outputs": [
        {
          "output_type": "stream",
          "text": [
            "3idl0gyf346xfbiz4tvxodbgxge3nwbid55uynuo4pwyqbmptye33nd8s0k8kutuz7yf332lwgr8vxtp58z7okexon57i8896i5v1k493iuaw2m96bj2s46dg5bcb0ckhm3kwvl4162sqwlzdq9poj3kvta6bzh9rjcgnckjkluompw99ol1iijl1y70fswxpfmpvh5muiz816n94em59hk9v5mjzolu2w41boq5dygjopb1z4fiix7rjfi0kujig7w8uga5sup83i4b43uc7oe6ystkta69bw0b6j8mszfrba69kq6dpon9rwfu04rlnmdllwtx697dbiqw5rqo3gmgoeip870xkyxgv1xiz8rcfvu8rm1qj38dohek7prladmobr869i6tffkz4bo7nzvtbhcil1zi6imoh1ipjh8ofei2asm726b2qh7i0jvhin\n",
            "3vqy0tls346ksovm4gikbqotktr3ajovq55hlahb4cjldozcglr33aq8f0x8xhghm7ls332yjte8ikgc58m7bxrkba57v8896v5i1x493vhnj2z96ow2f46qt5opo0pxuz3xjiy4162fdjymqd9cbw3xign6omu9ewptapxwxyhbzcj99by1vvwy1l70sfjkcszciu5zhvm816a94rz59ux9i5zwmbyh2j41obd5qltwbco1m4svvk7ewsv0xhwvt7j8htn5fhc83v4o43hp7br6lfgxgn69oj0o6w8zfmseon69xd6qcba9ejsh04eyazqyyjgk697qovdj5edb3tztbrvc870kxlkti1kvm8epsih8ez1dw38qburx7ceynqzboe869v6gssxm4ob7amigoupvy1mv6vzbu1vcwu8bsrv2nfz726o2du7v0wiuva\n",
            "2338123351233432340823340762497624976249109691091910924109171092510919109691091910924109171096510969109691091910924109191096510917109691091910924109191092410919109691091910924109181096610966109691091910924109191096610967109691091910924109181096610924109691091910924109181092510918109691092410965109231096510919109691091910924109171092410920109691091910924109171092510970109691092010966109651096610965109691091910924109171096510966109691092310965109211092510968109691092310965109221092410970109691091910924109171092410967109691091910924109171092410918109691091910924109181092410925109691091910924109181092510919109691091910924109171092510919109691091910924109171096510924109691091910924109181092510918\n",
            "['23381', '23351', '23343', '23408', '23340', '76249', '76249', '76249', '10969', '10919', '10924', '10917', '10925', '10919', '10969', '10919', '10924', '10917', '10965', '10969', '10969', '10919', '10924', '10919', '10965', '10917', '10969', '10919', '10924', '10919', '10924', '10919', '10969', '10919', '10924', '10918', '10966', '10966', '10969', '10919', '10924', '10919', '10966', '10967', '10969', '10919', '10924', '10918', '10966', '10924', '10969', '10919', '10924', '10918', '10925', '10918', '10969', '10924', '10965', '10923', '10965', '10919', '10969', '10919', '10924', '10917', '10924', '10920', '10969', '10919', '10924', '10917', '10925', '10970', '10969', '10920', '10966', '10965', '10966', '10965', '10969', '10919', '10924', '10917', '10965', '10966', '10969', '10923', '10965', '10921', '10925', '10968', '10969', '10923', '10965', '10922', '10924', '10970', '10969', '10919', '10924', '10917', '10924', '10967', '10969', '10919', '10924', '10917', '10924', '10918', '10969', '10919', '10924', '10918', '10924', '10925', '10969', '10919', '10924', '10918', '10925', '10919', '10969', '10919', '10924', '10917', '10925', '10919', '10969', '10919', '10924', '10917', '10965', '10924', '10969', '10919', '10924', '10918', '10925', '10918']\n",
            "[12513, 12483, 12475, 12540, 12472, 65381, 65381, 65381, 101, 51, 56, 49, 57, 51, 101, 51, 56, 49, 97, 101, 101, 51, 56, 51, 97, 49, 101, 51, 56, 51, 56, 51, 101, 51, 56, 50, 98, 98, 101, 51, 56, 51, 98, 99, 101, 51, 56, 50, 98, 56, 101, 51, 56, 50, 57, 50, 101, 56, 97, 55, 97, 51, 101, 51, 56, 49, 56, 52, 101, 51, 56, 49, 57, 102, 101, 52, 98, 97, 98, 97, 101, 51, 56, 49, 97, 98, 101, 55, 97, 53, 57, 100, 101, 55, 97, 54, 56, 102, 101, 51, 56, 49, 56, 99, 101, 51, 56, 49, 56, 50, 101, 51, 56, 50, 56, 57, 101, 51, 56, 50, 57, 51, 101, 51, 56, 49, 57, 51, 101, 51, 56, 49, 97, 56, 101, 51, 56, 50, 57, 50]\n",
            "メッセージ･･･e38193e381aee383a1e38383e382bbe383bce382b8e38292e8a7a3e38184e3819fe4babae381abe7a59de7a68fe3818ce38182e38289e38293e38193e381a8e38292\n",
            "['e3', '81', '93', 'e3', '81', 'ae', 'e3', '83', 'a1', 'e3', '83', '83', 'e3', '82', 'bb', 'e3', '83', 'bc', 'e3', '82', 'b8', 'e3', '82', '92', 'e8', 'a7', 'a3', 'e3', '81', '84', 'e3', '81', '9f', 'e4', 'ba', 'ba', 'e3', '81', 'ab', 'e7', 'a5', '9d', 'e7', 'a6', '8f', 'e3', '81', '8c', 'e3', '81', '82', 'e3', '82', '89', 'e3', '82', '93', 'e3', '81', '93', 'e3', '81', 'a8', 'e3', '82', '92']\n",
            "%e3%81%93%e3%81%ae%e3%83%a1%e3%83%83%e3%82%bb%e3%83%bc%e3%82%b8%e3%82%92%e8%a7%a3%e3%81%84%e3%81%9f%e4%ba%ba%e3%81%ab%e7%a5%9d%e7%a6%8f%e3%81%8c%e3%81%82%e3%82%89%e3%82%93%e3%81%93%e3%81%a8%e3%82%92\n",
            "このメッセージを解いた人に祝福があらんことを\n",
            "['孕', '嬷', '嬯', '孰', '嬬', '\\U000129d9', '\\U000129d9', '\\U000129d9', '⫙', '⪧', '⪬', '⪥', '⪭', '⪧', '⫙', '⪧', '⪬', '⪥', '⫕', '⫙', '⫙', '⪧', '⪬', '⪧', '⫕', '⪥', '⫙', '⪧', '⪬', '⪧', '⪬', '⪧', '⫙', '⪧', '⪬', '⪦', '⫖', '⫖', '⫙', '⪧', '⪬', '⪧', '⫖', '⫗', '⫙', '⪧', '⪬', '⪦', '⫖', '⪬', '⫙', '⪧', '⪬', '⪦', '⪭', '⪦', '⫙', '⪬', '⫕', '⪫', '⫕', '⪧', '⫙', '⪧', '⪬', '⪥', '⪬', '⪨', '⫙', '⪧', '⪬', '⪥', '⪭', '⫚', '⫙', '⪨', '⫖', '⫕', '⫖', '⫕', '⫙', '⪧', '⪬', '⪥', '⫕', '⫖', '⫙', '⪫', '⫕', '⪩', '⪭', '⫘', '⫙', '⪫', '⫕', '⪪', '⪬', '⫚', '⫙', '⪧', '⪬', '⪥', '⪬', '⫗', '⫙', '⪧', '⪬', '⪥', '⪬', '⪦', '⫙', '⪧', '⪬', '⪦', '⪬', '⪭', '⫙', '⪧', '⪬', '⪦', '⪭', '⪧', '⫙', '⪧', '⪬', '⪥', '⪭', '⪧', '⫙', '⪧', '⪬', '⪥', '⫕', '⪬', '⫙', '⪧', '⪬', '⪦', '⪭', '⪦']\n"
          ],
          "name": "stdout"
        }
      ]
    },
    {
      "cell_type": "code",
      "metadata": {
        "id": "6YKGM-ZQc1QV",
        "colab_type": "code",
        "outputId": "0b95230d-911c-446c-897a-d1cebde00a4c",
        "colab": {
          "base_uri": "https://localhost:8080/",
          "height": 89
        }
      },
      "source": [
        "import random as rdm\n",
        "x = rdm.sample(list(range(0, 10, 1)), 10)\n",
        "print(x)\n",
        "y = int(input())\n",
        "try:\n",
        "    z = x.index(y)\n",
        "except:\n",
        "    print(\"Error\")\n",
        "print(z)"
      ],
      "execution_count": 0,
      "outputs": [
        {
          "output_type": "stream",
          "text": [
            "[7, 1, 5, 3, 6, 2, 9, 0, 4, 8]\n",
            "19\n",
            "Error\n",
            "9\n"
          ],
          "name": "stdout"
        }
      ]
    },
    {
      "cell_type": "code",
      "metadata": {
        "id": "E9--6j4stWSY",
        "colab_type": "code",
        "outputId": "e2aa4fba-dd0f-404c-bb02-500ffaa6baaa",
        "colab": {
          "base_uri": "https://localhost:8080/",
          "height": 71
        }
      },
      "source": [
        "a = str(fix10_36(10868))\n",
        "print(a)\n",
        "print(fix36_10(a))\n",
        "print(type(fix36_10(a)))"
      ],
      "execution_count": 0,
      "outputs": [
        {
          "output_type": "stream",
          "text": [
            "8dw\n",
            "10868\n",
            "<class 'int'>\n"
          ],
          "name": "stdout"
        }
      ]
    },
    {
      "cell_type": "code",
      "metadata": {
        "id": "HJl4XMJPzftQ",
        "colab_type": "code",
        "outputId": "cc7c53ed-b329-46b6-aa47-f836759f3dbe",
        "colab": {
          "base_uri": "https://localhost:8080/",
          "height": 55
        }
      },
      "source": [
        "f = [51, 105, 100, 108, 48, 103, 121, 102, 51, 52, 54, 120, 102, 98, 105, 122, 52, 116, 118, 120, 111, 100, 98, 103, 120, 103, 101, 51, 110, 119, 98, 105, 100, 53, 53, 117, 121, 110, 117, 111, 52, 112, 119, 121, 113, 98, 109, 112, 116, 121, 101, 51, 51, 110, 100, 56, 115, 48, 107, 56, 107, 117, 116, 117, 122, 55, 121, 102, 51, 51, 50, 108, 119, 103, 114, 56, 118, 120, 116, 112, 53, 56, 122, 55, 111, 107, 101, 120, 111, 110, 53, 55, 105, 56, 56, 57, 54, 105, 53, 118, 49, 107, 52, 57, 51, 105, 117, 97, 119, 50, 109, 57, 54, 98, 106, 50, 115, 52, 54, 100, 103, 53, 98, 99, 98, 48, 99, 107, 104, 109, 51, 107, 119, 118, 108, 52, 49, 54, 50, 115, 113, 119, 108, 122, 100, 113, 57, 112, 111, 106, 51, 107, 118, 116, 97, 54, 98, 122, 104, 57, 114, 106, 99, 103, 110, 99, 107, 106, 107, 108, 117, 111, 109, 112, 119, 57, 57, 111, 108, 49, 105, 105, 106, 108, 49, 121, 55, 48, 102, 115, 119, 120, 112, 102, 109, 112, 118, 104, 53, 109, 117, 105, 122, 56, 49, 54, 110, 57, 52, 101, 109, 53, 57, 104, 107, 57, 118, 53, 109, 106, 122, 111, 108, 117, 50, 119, 52, 49, 98, 111, 113, 53, 100, 121, 103, 106, 111, 112, 98, 49, 122, 52, 102, 105, 105, 120, 55, 114, 106, 102, 105, 48, 107, 117, 106, 105, 103, 55, 119, 56, 117, 103, 97, 53, 115, 117, 112, 56, 51, 105, 52, 98, 52, 51, 117, 99, 55, 111, 101, 54, 121, 115, 116, 107, 116, 97, 54, 57, 98, 119, 48, 98, 54, 106, 56, 109, 115, 122, 102, 114, 98, 97, 54, 57, 107, 113, 54, 100, 112, 111, 110, 57, 114, 119, 102, 117, 48, 52, 114, 108, 110, 109, 100, 108, 108, 119, 116, 120, 54, 57, 55, 100, 98, 105, 113, 119, 53, 114, 113, 111, 51, 103, 109, 103, 111, 101, 105, 112, 56, 55, 48, 120, 107, 121, 120, 103, 118, 49, 120, 105, 122, 56, 114, 99, 102, 118, 117, 56, 114, 109, 49, 113, 106, 51, 56, 100, 111, 104, 101, 107, 55, 112, 114, 108, 97, 100, 109, 111, 98, 114, 56, 54, 57, 105, 54, 116, 102, 102, 107, 122, 52, 98, 111, 55, 110, 122, 118, 116, 98, 104, 99, 105, 108, 49, 122, 105, 54, 105, 109, 111, 104, 49, 105, 112, 106, 104, 56, 111, 102, 101, 105, 50, 97, 115, 109, 55, 50, 54, 98, 50, 113, 104, 55, 105, 48, 106, 118, 104, 105, 110]\n",
        "print(\" \".join(list(map(str, f))))"
      ],
      "execution_count": 0,
      "outputs": [
        {
          "output_type": "stream",
          "text": [
            "51 105 100 108 48 103 121 102 51 52 54 120 102 98 105 122 52 116 118 120 111 100 98 103 120 103 101 51 110 119 98 105 100 53 53 117 121 110 117 111 52 112 119 121 113 98 109 112 116 121 101 51 51 110 100 56 115 48 107 56 107 117 116 117 122 55 121 102 51 51 50 108 119 103 114 56 118 120 116 112 53 56 122 55 111 107 101 120 111 110 53 55 105 56 56 57 54 105 53 118 49 107 52 57 51 105 117 97 119 50 109 57 54 98 106 50 115 52 54 100 103 53 98 99 98 48 99 107 104 109 51 107 119 118 108 52 49 54 50 115 113 119 108 122 100 113 57 112 111 106 51 107 118 116 97 54 98 122 104 57 114 106 99 103 110 99 107 106 107 108 117 111 109 112 119 57 57 111 108 49 105 105 106 108 49 121 55 48 102 115 119 120 112 102 109 112 118 104 53 109 117 105 122 56 49 54 110 57 52 101 109 53 57 104 107 57 118 53 109 106 122 111 108 117 50 119 52 49 98 111 113 53 100 121 103 106 111 112 98 49 122 52 102 105 105 120 55 114 106 102 105 48 107 117 106 105 103 55 119 56 117 103 97 53 115 117 112 56 51 105 52 98 52 51 117 99 55 111 101 54 121 115 116 107 116 97 54 57 98 119 48 98 54 106 56 109 115 122 102 114 98 97 54 57 107 113 54 100 112 111 110 57 114 119 102 117 48 52 114 108 110 109 100 108 108 119 116 120 54 57 55 100 98 105 113 119 53 114 113 111 51 103 109 103 111 101 105 112 56 55 48 120 107 121 120 103 118 49 120 105 122 56 114 99 102 118 117 56 114 109 49 113 106 51 56 100 111 104 101 107 55 112 114 108 97 100 109 111 98 114 56 54 57 105 54 116 102 102 107 122 52 98 111 55 110 122 118 116 98 104 99 105 108 49 122 105 54 105 109 111 104 49 105 112 106 104 56 111 102 101 105 50 97 115 109 55 50 54 98 50 113 104 55 105 48 106 118 104 105 110\n"
          ],
          "name": "stdout"
        }
      ]
    },
    {
      "cell_type": "code",
      "metadata": {
        "id": "bvTQoHzQAtSA",
        "colab_type": "code",
        "outputId": "f53f0906-704d-4c09-a84f-0fa23f666679",
        "colab": {
          "base_uri": "https://localhost:8080/",
          "height": 35
        }
      },
      "source": [
        "print(len(\"2338123351233432340823340762497624976249109691091910924109171092510919109691091910924109171096510969109691091910924109191096510917109691091910924109191092410919109691091910924109181096610966109691091910924109191096610967109691091910924109181096610924109691091910924109181092510918109691092410965109231096510919109691091910924109171092410920109691091910924109171092510970109691092010966109651096610965109691091910924109171096510966109691092310965109211092510968109691092310965109221092410970109691091910924109171092410967109691091910924109171092410918109691091910924109181092410925109691091910924109181092510919109691091910924109171092510919109691091910924109171096510924109691091910924109181092510918\"))"
      ],
      "execution_count": 0,
      "outputs": [
        {
          "output_type": "stream",
          "text": [
            "700\n"
          ],
          "name": "stdout"
        }
      ]
    },
    {
      "cell_type": "code",
      "metadata": {
        "id": "mqzEotpWzlkM",
        "colab_type": "code",
        "colab": {}
      },
      "source": [
        "\"\"\"D-07_RBK--バージョン3\"\"\"\n",
        "#coding utf-8\n",
        "# import random as rdm\n",
        "cin = input() #自分のカード数値群(または0と所持チップ数)\n",
        "mcds = list(map(int, cin.split())) #cinをリスト化\n",
        "wctr = int(input()) #連戦カウンター\n",
        "cctr = int(input()) #連勝カウンター\n",
        "# bet = rdm.randrange(60, 100, 1) #基本bet数\n",
        "# inc = rdm.randrange(5, 15, 1) #増加bet数\n",
        "bet =  1600 #基本bet数\n",
        "inc =  200 #増加bet数\n",
        "# 一度目の入力時の処理\n",
        "\n",
        "# if mcds[0] == 0:\n",
        "#     if wctr > 1:\n",
        "#         if cctr % 2  == 1:\n",
        "#             print(bet + inc * (cctr))\n",
        "#         else:\n",
        "#             print(int(bet + inc * (cctr / 2)))\n",
        "#     else:\n",
        "#         print(bet)\n",
        "\n",
        "if mcds[0] == 0:\n",
        "    if wctr >= 1:\n",
        "        print(int(input()) / 2)\n",
        "    else:\n",
        "        print(bet)\n",
        "\n",
        "#2度目の入力時の処理\n",
        "else:\n",
        "    mxbt = int(input()) #最大bet数\n",
        "    dcds = input() #ディーラーのカード数値群\n",
        "    encd = list(map(int, dcds.split())) # ディーラーのカード数値群をリスト化\n",
        "    mysum = sum(mcds) #自分のカードの総和\n",
        "    ensum = sum(encd) #ディーラーのカードの総和\n",
        "    try:\n",
        "        tcds0 = input() # トランプのカード数値群\n",
        "    except:\n",
        "        if encd.count(1) > 0 and sum(encd) - 1 <= 10:\n",
        "            ensum += 10\n",
        "        if ensum >= 21: #ディーラーのカードの総和が21以上でSTAND\n",
        "            print(\"STAND\")\n",
        "        elif ensum == mysum and ensum < 20:\n",
        "            import random\n",
        "            if random.randrange(0, 2, 1) == 0:\n",
        "                print(\"HIT\")\n",
        "            else:\n",
        "                print(\"STAND\")\n",
        "        else:\n",
        "            if mcds.count(1) > 0 and mysum - 1 <= 10:\n",
        "                mysum += 10\n",
        "            if mysum == 21:\n",
        "                print(\"STAND\")\n",
        "            elif ensum - mysum == 1 and mysum <= 18:\n",
        "                print(\"HIT\")\n",
        "            elif ensum == mysum:\n",
        "                print(\"HIT\")\n",
        "            elif mcds[0] >= 9: #初手が9以上の処理\n",
        "                if sum(mcds) < 18: #カードの和が18以下で次カードを引く\n",
        "                        print(\"HIT\")\n",
        "                else:\n",
        "                        print(\"STAND\")\n",
        "            else: #初手が8以下の処理\n",
        "                if mcds[1] >= 9: #2手目が9以上の時の処理\n",
        "                    if sum(mcds) < 18: #カードの和が18以下で次カードを引く\n",
        "                        print(\"HIT\")\n",
        "                    else:\n",
        "                        print(\"STAND\")\n",
        "                else: #2手目が8以下の時の処理\n",
        "                    if sum(mcds) < 18: #カードの和が17以下で次カードを引く\n",
        "                        print(\"HIT\")\n",
        "                    else:\n",
        "                        print(\"STAND\")\n",
        "    else:\n",
        "        tcds = list(map(int, tcds0.split())) # tcds0をリスト化\n",
        "        if encd.count(1) > 0 and sum(encd) - 1 <= 10:\n",
        "            ensum += 10\n",
        "        if ensum >= 21: #ディーラーのカードの総和が21以上でSTAND\n",
        "            print(\"STAND\")\n",
        "        else: # それ以外\n",
        "            if mcds.count(1) > 0 and mysum - 1 <= 10: # Aの処理\n",
        "                mysum += 10\n",
        "\n",
        "            if mysum == 21: #自分の総和が21だったら\n",
        "                print(\"STAND\")\n",
        "\n",
        "            elif mysum > 11: # 自分のカードの総和が11より大きかったら\n",
        "                more = 21 - mysum #あとどれだけで21になるか\n",
        "                tcds = sorted(tcds) #とりあえず昇順にソート\n",
        "                over = [] # 出たら負けるカード\n",
        "                less = [] # 出てもOKのカード\n",
        "                for i in range(len(tcds)):\n",
        "                    if tcds[i] <= more:\n",
        "                        less.append(tcds[i])\n",
        "                    else:\n",
        "                        over.append(tcds[i])\n",
        "                # 無事でいられる確率を求める\n",
        "                pcto = len(less) / len(tcds)\n",
        "                # 負ける確率を求める\n",
        "                pctl = len(over) / len(tcds)\n",
        "                if mysum < ensum and mysum <= 17:\n",
        "                    print(\"HIT\")\n",
        "                else:\n",
        "                    import random as rdm\n",
        "                    if ensum == mysum and ensum < 20:\n",
        "                        if rdm.randrange(0, 2, 1) == 0:\n",
        "                            print(\"HIT\")\n",
        "                        else:\n",
        "                            print(\"STAND\")\n",
        "                    elif mysum <= 15 and pcto >= 35:\n",
        "                        print(\"HIT\")\n",
        "                    elif mysum <= 17 and pcto >= 40:\n",
        "                        print(\"HIT\")\n",
        "                    elif mysum <= 19 and pcto >= 50:\n",
        "                        print(\"HIT\")\n",
        "                    elif mysum <= 20 and pcto >= 63.5:\n",
        "                        print(\"HIT\")\n",
        "                    else:\n",
        "                        print(\"STAND\")\n",
        "            else: #それ以外\n",
        "                print(\"HIT\")"
      ],
      "execution_count": 0,
      "outputs": []
    },
    {
      "cell_type": "code",
      "metadata": {
        "id": "wsrwCHKK7YnQ",
        "colab_type": "code",
        "outputId": "20c139b8-9691-4e99-f518-bd0cdb001a19",
        "colab": {
          "base_uri": "https://localhost:8080/",
          "height": 107
        }
      },
      "source": [
        "# print(ord(\"■\"))\n",
        "# print(ord(\"□\"))\n",
        "print(9632, chr(9632))\n",
        "print(9633, chr(9633))\n",
        "# print(9634, chr(9634))\n",
        "print(9635, chr(9635))\n",
        "# print(9636, chr(9636))\n",
        "print(9619, chr(9619))\n",
        "print(9639, chr(9639))"
      ],
      "execution_count": 0,
      "outputs": [
        {
          "output_type": "stream",
          "text": [
            "9632 ■\n",
            "9633 □\n",
            "9635 ▣\n",
            "9619 ▓\n",
            "9639 ▧\n"
          ],
          "name": "stdout"
        }
      ]
    },
    {
      "cell_type": "code",
      "metadata": {
        "id": "XkJntrhDxDoA",
        "colab_type": "code",
        "colab": {}
      },
      "source": [
        "l = input()\n",
        "ll = [c for c in l]\n",
        "for i in range()"
      ],
      "execution_count": 0,
      "outputs": []
    },
    {
      "cell_type": "code",
      "metadata": {
        "id": "cELjmIO8xd7e",
        "colab_type": "code",
        "outputId": "b3a45ccc-4815-4334-d8b4-3b908b6dc524",
        "colab": {
          "base_uri": "https://localhost:8080/",
          "height": 35
        }
      },
      "source": [
        "fix10_36(40483056135)"
      ],
      "execution_count": 0,
      "outputs": [
        {
          "output_type": "execute_result",
          "data": {
            "text/plain": [
              "'ilike13'"
            ]
          },
          "metadata": {
            "tags": []
          },
          "execution_count": 27
        }
      ]
    },
    {
      "cell_type": "code",
      "metadata": {
        "id": "WpMLBJMw4NZL",
        "colab_type": "code",
        "outputId": "375b7af3-520a-4700-8df1-dde76cd9c37f",
        "colab": {
          "base_uri": "https://localhost:8080/",
          "height": 71
        }
      },
      "source": [
        "a = int(input())\n",
        "l = [c for c in list(range(1, a + 1, 1)) if a % c == 0]\n",
        "if len(l) == 2:\n",
        "    print(l, \"\\n\", \"\\r\" + str(True))\n",
        "else:\n",
        "    print(l, \"\\n\", \"\\r\" + str(False))"
      ],
      "execution_count": 0,
      "outputs": [
        {
          "output_type": "stream",
          "text": [
            "120\n",
            "[1, 2, 3, 4, 5, 6, 8, 10, 12, 15, 20, 24, 30, 40, 60, 120] \n",
            "False\n"
          ],
          "name": "stdout"
        }
      ]
    },
    {
      "cell_type": "code",
      "metadata": {
        "id": "PmRvwG1Dt1SJ",
        "colab_type": "code",
        "outputId": "41a82312-e21d-43bd-f59d-7d2977de86d3",
        "colab": {
          "base_uri": "https://localhost:8080/",
          "height": 53
        }
      },
      "source": [
        "num = input(\"数字を入力：\")\n",
        "print(\"素数です\" if len([i for i in range(int(num)) if (int(num) % (i + 1)) == 0]) == 2 else \"素数ではありません\")"
      ],
      "execution_count": 0,
      "outputs": [
        {
          "output_type": "stream",
          "text": [
            "数字を入力：1001\n",
            "素数ではありません\n"
          ],
          "name": "stdout"
        }
      ]
    },
    {
      "cell_type": "code",
      "metadata": {
        "id": "6iKBbi-o9Iwg",
        "colab_type": "code",
        "outputId": "b39c6774-051f-4411-e2bf-a40efba8eaef",
        "cellView": "code",
        "colab": {
          "base_uri": "https://localhost:8080/",
          "height": 1456
        }
      },
      "source": [
        "\"\"\"1次元火災シュミレーション(脱出者カウンター付き)\"\"\"\n",
        "import random as rdm\n",
        "import time as tm\n",
        "def move(x, y=0):\n",
        "    l1 = []\n",
        "    for i in range(len(x)):\n",
        "        if x[i] == lv:\n",
        "            l1.append(i)\n",
        "    x.append(nn)\n",
        "    for i in l1:\n",
        "        if x[i + 1] == nn:\n",
        "            x[i + 1] = lv\n",
        "            x[i] = nn\n",
        "    del(x[-1])\n",
        "    if y > 0:\n",
        "        for i in range(y):\n",
        "            x[i] = fi\n",
        "    return\n",
        "l = []\n",
        "lv = chr(9632)\n",
        "nn = chr(9633)\n",
        "fi = chr(9635)\n",
        "dc = 0\n",
        "for i in range(80):\n",
        "    rn = rdm.randint(1, 100)\n",
        "    if rn <= 100: # 生きたセルの確率(100分率)\n",
        "        rn = lv\n",
        "    else:\n",
        "        rn = nn\n",
        "    l.append(rn)\n",
        "bs = l.count(lv)\n",
        "print(\"\".join(l), str(dc).zfill(2), \"|\", lv, \"=\", bs)\n",
        "ct = 1\n",
        "bc = 0\n",
        "ac = 0\n",
        "rg = dc + bs\n",
        "bf_1 = nn\n",
        "sign = chr(8592)\n",
        "while l.count(lv) != 0:\n",
        "    bc = l.count(lv)\n",
        "    bf_1 = l[-1]\n",
        "    move(l, ct)\n",
        "    ac = l.count(lv)\n",
        "    if bf_1 == lv:\n",
        "        dc += 1\n",
        "    if (dc + l.count(lv)) != rg:\n",
        "        print(\"\".join(l), str(dc).zfill(2), \"|\", lv, \"=\", l.count(lv), sign)\n",
        "        rg = dc + l.count(lv)\n",
        "    else:\n",
        "        print(\"\".join(l), str(dc).zfill(2), \"|\", lv, \"=\", l.count(lv))\n",
        "    ct += 1\n",
        "print(chr(124) + \" beore:\", bs, chr(124) + \" safe:\", dc, chr(124) + \" die:\", bs - dc)"
      ],
      "execution_count": 0,
      "outputs": [
        {
          "output_type": "stream",
          "text": [
            "■■■■■■■■■■■■■■■■■■■■■■■■■■■■■■■■■■■■■■■■■■■■■■■■■■■■■■■■■■■■■■■■■■■■■■■■■■■■■■■■ 00 | ■ = 80\n",
            "▣■■■■■■■■■■■■■■■■■■■■■■■■■■■■■■■■■■■■■■■■■■■■■■■■■■■■■■■■■■■■■■■■■■■■■■■■■■■■■■□ 01 | ■ = 78 ←\n",
            "▣▣■■■■■■■■■■■■■■■■■■■■■■■■■■■■■■■■■■■■■■■■■■■■■■■■■■■■■■■■■■■■■■■■■■■■■■■■■■■■□■ 01 | ■ = 77 ←\n",
            "▣▣▣■■■■■■■■■■■■■■■■■■■■■■■■■■■■■■■■■■■■■■■■■■■■■■■■■■■■■■■■■■■■■■■■■■■■■■■■■■□■□ 02 | ■ = 75 ←\n",
            "▣▣▣▣■■■■■■■■■■■■■■■■■■■■■■■■■■■■■■■■■■■■■■■■■■■■■■■■■■■■■■■■■■■■■■■■■■■■■■■■□■□■ 02 | ■ = 74 ←\n",
            "▣▣▣▣▣■■■■■■■■■■■■■■■■■■■■■■■■■■■■■■■■■■■■■■■■■■■■■■■■■■■■■■■■■■■■■■■■■■■■■■□■□■□ 03 | ■ = 72 ←\n",
            "▣▣▣▣▣▣■■■■■■■■■■■■■■■■■■■■■■■■■■■■■■■■■■■■■■■■■■■■■■■■■■■■■■■■■■■■■■■■■■■■□■□■□■ 03 | ■ = 71 ←\n",
            "▣▣▣▣▣▣▣■■■■■■■■■■■■■■■■■■■■■■■■■■■■■■■■■■■■■■■■■■■■■■■■■■■■■■■■■■■■■■■■■■□■□■□■□ 04 | ■ = 69 ←\n",
            "▣▣▣▣▣▣▣▣■■■■■■■■■■■■■■■■■■■■■■■■■■■■■■■■■■■■■■■■■■■■■■■■■■■■■■■■■■■■■■■■□■□■□■□■ 04 | ■ = 68 ←\n",
            "▣▣▣▣▣▣▣▣▣■■■■■■■■■■■■■■■■■■■■■■■■■■■■■■■■■■■■■■■■■■■■■■■■■■■■■■■■■■■■■■□■□■□■□■□ 05 | ■ = 66 ←\n",
            "▣▣▣▣▣▣▣▣▣▣■■■■■■■■■■■■■■■■■■■■■■■■■■■■■■■■■■■■■■■■■■■■■■■■■■■■■■■■■■■■□■□■□■□■□■ 05 | ■ = 65 ←\n",
            "▣▣▣▣▣▣▣▣▣▣▣■■■■■■■■■■■■■■■■■■■■■■■■■■■■■■■■■■■■■■■■■■■■■■■■■■■■■■■■■■□■□■□■□■□■□ 06 | ■ = 63 ←\n",
            "▣▣▣▣▣▣▣▣▣▣▣▣■■■■■■■■■■■■■■■■■■■■■■■■■■■■■■■■■■■■■■■■■■■■■■■■■■■■■■■■□■□■□■□■□■□■ 06 | ■ = 62 ←\n",
            "▣▣▣▣▣▣▣▣▣▣▣▣▣■■■■■■■■■■■■■■■■■■■■■■■■■■■■■■■■■■■■■■■■■■■■■■■■■■■■■■□■□■□■□■□■□■□ 07 | ■ = 60 ←\n",
            "▣▣▣▣▣▣▣▣▣▣▣▣▣▣■■■■■■■■■■■■■■■■■■■■■■■■■■■■■■■■■■■■■■■■■■■■■■■■■■■■□■□■□■□■□■□■□■ 07 | ■ = 59 ←\n",
            "▣▣▣▣▣▣▣▣▣▣▣▣▣▣▣■■■■■■■■■■■■■■■■■■■■■■■■■■■■■■■■■■■■■■■■■■■■■■■■■■□■□■□■□■□■□■□■□ 08 | ■ = 57 ←\n",
            "▣▣▣▣▣▣▣▣▣▣▣▣▣▣▣▣■■■■■■■■■■■■■■■■■■■■■■■■■■■■■■■■■■■■■■■■■■■■■■■■□■□■□■□■□■□■□■□■ 08 | ■ = 56 ←\n",
            "▣▣▣▣▣▣▣▣▣▣▣▣▣▣▣▣▣■■■■■■■■■■■■■■■■■■■■■■■■■■■■■■■■■■■■■■■■■■■■■■□■□■□■□■□■□■□■□■□ 09 | ■ = 54 ←\n",
            "▣▣▣▣▣▣▣▣▣▣▣▣▣▣▣▣▣▣■■■■■■■■■■■■■■■■■■■■■■■■■■■■■■■■■■■■■■■■■■■■□■□■□■□■□■□■□■□■□■ 09 | ■ = 53 ←\n",
            "▣▣▣▣▣▣▣▣▣▣▣▣▣▣▣▣▣▣▣■■■■■■■■■■■■■■■■■■■■■■■■■■■■■■■■■■■■■■■■■■□■□■□■□■□■□■□■□■□■□ 10 | ■ = 51 ←\n",
            "▣▣▣▣▣▣▣▣▣▣▣▣▣▣▣▣▣▣▣▣■■■■■■■■■■■■■■■■■■■■■■■■■■■■■■■■■■■■■■■■□■□■□■□■□■□■□■□■□■□■ 10 | ■ = 50 ←\n",
            "▣▣▣▣▣▣▣▣▣▣▣▣▣▣▣▣▣▣▣▣▣■■■■■■■■■■■■■■■■■■■■■■■■■■■■■■■■■■■■■■□■□■□■□■□■□■□■□■□■□■□ 11 | ■ = 48 ←\n",
            "▣▣▣▣▣▣▣▣▣▣▣▣▣▣▣▣▣▣▣▣▣▣■■■■■■■■■■■■■■■■■■■■■■■■■■■■■■■■■■■■□■□■□■□■□■□■□■□■□■□■□■ 11 | ■ = 47 ←\n",
            "▣▣▣▣▣▣▣▣▣▣▣▣▣▣▣▣▣▣▣▣▣▣▣■■■■■■■■■■■■■■■■■■■■■■■■■■■■■■■■■■□■□■□■□■□■□■□■□■□■□■□■□ 12 | ■ = 45 ←\n",
            "▣▣▣▣▣▣▣▣▣▣▣▣▣▣▣▣▣▣▣▣▣▣▣▣■■■■■■■■■■■■■■■■■■■■■■■■■■■■■■■■□■□■□■□■□■□■□■□■□■□■□■□■ 12 | ■ = 44 ←\n",
            "▣▣▣▣▣▣▣▣▣▣▣▣▣▣▣▣▣▣▣▣▣▣▣▣▣■■■■■■■■■■■■■■■■■■■■■■■■■■■■■■□■□■□■□■□■□■□■□■□■□■□■□■□ 13 | ■ = 42 ←\n",
            "▣▣▣▣▣▣▣▣▣▣▣▣▣▣▣▣▣▣▣▣▣▣▣▣▣▣■■■■■■■■■■■■■■■■■■■■■■■■■■■■□■□■□■□■□■□■□■□■□■□■□■□■□■ 13 | ■ = 41 ←\n",
            "▣▣▣▣▣▣▣▣▣▣▣▣▣▣▣▣▣▣▣▣▣▣▣▣▣▣▣■■■■■■■■■■■■■■■■■■■■■■■■■■□■□■□■□■□■□■□■□■□■□■□■□■□■□ 14 | ■ = 39 ←\n",
            "▣▣▣▣▣▣▣▣▣▣▣▣▣▣▣▣▣▣▣▣▣▣▣▣▣▣▣▣■■■■■■■■■■■■■■■■■■■■■■■■□■□■□■□■□■□■□■□■□■□■□■□■□■□■ 14 | ■ = 38 ←\n",
            "▣▣▣▣▣▣▣▣▣▣▣▣▣▣▣▣▣▣▣▣▣▣▣▣▣▣▣▣▣■■■■■■■■■■■■■■■■■■■■■■□■□■□■□■□■□■□■□■□■□■□■□■□■□■□ 15 | ■ = 36 ←\n",
            "▣▣▣▣▣▣▣▣▣▣▣▣▣▣▣▣▣▣▣▣▣▣▣▣▣▣▣▣▣▣■■■■■■■■■■■■■■■■■■■■□■□■□■□■□■□■□■□■□■□■□■□■□■□■□■ 15 | ■ = 35 ←\n",
            "▣▣▣▣▣▣▣▣▣▣▣▣▣▣▣▣▣▣▣▣▣▣▣▣▣▣▣▣▣▣▣■■■■■■■■■■■■■■■■■■□■□■□■□■□■□■□■□■□■□■□■□■□■□■□■□ 16 | ■ = 33 ←\n",
            "▣▣▣▣▣▣▣▣▣▣▣▣▣▣▣▣▣▣▣▣▣▣▣▣▣▣▣▣▣▣▣▣■■■■■■■■■■■■■■■■□■□■□■□■□■□■□■□■□■□■□■□■□■□■□■□■ 16 | ■ = 32 ←\n",
            "▣▣▣▣▣▣▣▣▣▣▣▣▣▣▣▣▣▣▣▣▣▣▣▣▣▣▣▣▣▣▣▣▣■■■■■■■■■■■■■■□■□■□■□■□■□■□■□■□■□■□■□■□■□■□■□■□ 17 | ■ = 30 ←\n",
            "▣▣▣▣▣▣▣▣▣▣▣▣▣▣▣▣▣▣▣▣▣▣▣▣▣▣▣▣▣▣▣▣▣▣■■■■■■■■■■■■□■□■□■□■□■□■□■□■□■□■□■□■□■□■□■□■□■ 17 | ■ = 29 ←\n",
            "▣▣▣▣▣▣▣▣▣▣▣▣▣▣▣▣▣▣▣▣▣▣▣▣▣▣▣▣▣▣▣▣▣▣▣■■■■■■■■■■□■□■□■□■□■□■□■□■□■□■□■□■□■□■□■□■□■□ 18 | ■ = 27 ←\n",
            "▣▣▣▣▣▣▣▣▣▣▣▣▣▣▣▣▣▣▣▣▣▣▣▣▣▣▣▣▣▣▣▣▣▣▣▣■■■■■■■■□■□■□■□■□■□■□■□■□■□■□■□■□■□■□■□■□■□■ 18 | ■ = 26 ←\n",
            "▣▣▣▣▣▣▣▣▣▣▣▣▣▣▣▣▣▣▣▣▣▣▣▣▣▣▣▣▣▣▣▣▣▣▣▣▣■■■■■■□■□■□■□■□■□■□■□■□■□■□■□■□■□■□■□■□■□■□ 19 | ■ = 24 ←\n",
            "▣▣▣▣▣▣▣▣▣▣▣▣▣▣▣▣▣▣▣▣▣▣▣▣▣▣▣▣▣▣▣▣▣▣▣▣▣▣■■■■□■□■□■□■□■□■□■□■□■□■□■□■□■□■□■□■□■□■□■ 19 | ■ = 23 ←\n",
            "▣▣▣▣▣▣▣▣▣▣▣▣▣▣▣▣▣▣▣▣▣▣▣▣▣▣▣▣▣▣▣▣▣▣▣▣▣▣▣■■□■□■□■□■□■□■□■□■□■□■□■□■□■□■□■□■□■□■□■□ 20 | ■ = 21 ←\n",
            "▣▣▣▣▣▣▣▣▣▣▣▣▣▣▣▣▣▣▣▣▣▣▣▣▣▣▣▣▣▣▣▣▣▣▣▣▣▣▣▣□■□■□■□■□■□■□■□■□■□■□■□■□■□■□■□■□■□■□■□■ 20 | ■ = 20 ←\n",
            "▣▣▣▣▣▣▣▣▣▣▣▣▣▣▣▣▣▣▣▣▣▣▣▣▣▣▣▣▣▣▣▣▣▣▣▣▣▣▣▣▣□■□■□■□■□■□■□■□■□■□■□■□■□■□■□■□■□■□■□■□ 21 | ■ = 19\n",
            "▣▣▣▣▣▣▣▣▣▣▣▣▣▣▣▣▣▣▣▣▣▣▣▣▣▣▣▣▣▣▣▣▣▣▣▣▣▣▣▣▣▣□■□■□■□■□■□■□■□■□■□■□■□■□■□■□■□■□■□■□■ 21 | ■ = 19\n",
            "▣▣▣▣▣▣▣▣▣▣▣▣▣▣▣▣▣▣▣▣▣▣▣▣▣▣▣▣▣▣▣▣▣▣▣▣▣▣▣▣▣▣▣□■□■□■□■□■□■□■□■□■□■□■□■□■□■□■□■□■□■□ 22 | ■ = 18\n",
            "▣▣▣▣▣▣▣▣▣▣▣▣▣▣▣▣▣▣▣▣▣▣▣▣▣▣▣▣▣▣▣▣▣▣▣▣▣▣▣▣▣▣▣▣□■□■□■□■□■□■□■□■□■□■□■□■□■□■□■□■□■□■ 22 | ■ = 18\n",
            "▣▣▣▣▣▣▣▣▣▣▣▣▣▣▣▣▣▣▣▣▣▣▣▣▣▣▣▣▣▣▣▣▣▣▣▣▣▣▣▣▣▣▣▣▣□■□■□■□■□■□■□■□■□■□■□■□■□■□■□■□■□■□ 23 | ■ = 17\n",
            "▣▣▣▣▣▣▣▣▣▣▣▣▣▣▣▣▣▣▣▣▣▣▣▣▣▣▣▣▣▣▣▣▣▣▣▣▣▣▣▣▣▣▣▣▣▣□■□■□■□■□■□■□■□■□■□■□■□■□■□■□■□■□■ 23 | ■ = 17\n",
            "▣▣▣▣▣▣▣▣▣▣▣▣▣▣▣▣▣▣▣▣▣▣▣▣▣▣▣▣▣▣▣▣▣▣▣▣▣▣▣▣▣▣▣▣▣▣▣□■□■□■□■□■□■□■□■□■□■□■□■□■□■□■□■□ 24 | ■ = 16\n",
            "▣▣▣▣▣▣▣▣▣▣▣▣▣▣▣▣▣▣▣▣▣▣▣▣▣▣▣▣▣▣▣▣▣▣▣▣▣▣▣▣▣▣▣▣▣▣▣▣□■□■□■□■□■□■□■□■□■□■□■□■□■□■□■□■ 24 | ■ = 16\n",
            "▣▣▣▣▣▣▣▣▣▣▣▣▣▣▣▣▣▣▣▣▣▣▣▣▣▣▣▣▣▣▣▣▣▣▣▣▣▣▣▣▣▣▣▣▣▣▣▣▣□■□■□■□■□■□■□■□■□■□■□■□■□■□■□■□ 25 | ■ = 15\n",
            "▣▣▣▣▣▣▣▣▣▣▣▣▣▣▣▣▣▣▣▣▣▣▣▣▣▣▣▣▣▣▣▣▣▣▣▣▣▣▣▣▣▣▣▣▣▣▣▣▣▣□■□■□■□■□■□■□■□■□■□■□■□■□■□■□■ 25 | ■ = 15\n",
            "▣▣▣▣▣▣▣▣▣▣▣▣▣▣▣▣▣▣▣▣▣▣▣▣▣▣▣▣▣▣▣▣▣▣▣▣▣▣▣▣▣▣▣▣▣▣▣▣▣▣▣□■□■□■□■□■□■□■□■□■□■□■□■□■□■□ 26 | ■ = 14\n",
            "▣▣▣▣▣▣▣▣▣▣▣▣▣▣▣▣▣▣▣▣▣▣▣▣▣▣▣▣▣▣▣▣▣▣▣▣▣▣▣▣▣▣▣▣▣▣▣▣▣▣▣▣□■□■□■□■□■□■□■□■□■□■□■□■□■□■ 26 | ■ = 14\n",
            "▣▣▣▣▣▣▣▣▣▣▣▣▣▣▣▣▣▣▣▣▣▣▣▣▣▣▣▣▣▣▣▣▣▣▣▣▣▣▣▣▣▣▣▣▣▣▣▣▣▣▣▣▣□■□■□■□■□■□■□■□■□■□■□■□■□■□ 27 | ■ = 13\n",
            "▣▣▣▣▣▣▣▣▣▣▣▣▣▣▣▣▣▣▣▣▣▣▣▣▣▣▣▣▣▣▣▣▣▣▣▣▣▣▣▣▣▣▣▣▣▣▣▣▣▣▣▣▣▣□■□■□■□■□■□■□■□■□■□■□■□■□■ 27 | ■ = 13\n",
            "▣▣▣▣▣▣▣▣▣▣▣▣▣▣▣▣▣▣▣▣▣▣▣▣▣▣▣▣▣▣▣▣▣▣▣▣▣▣▣▣▣▣▣▣▣▣▣▣▣▣▣▣▣▣▣□■□■□■□■□■□■□■□■□■□■□■□■□ 28 | ■ = 12\n",
            "▣▣▣▣▣▣▣▣▣▣▣▣▣▣▣▣▣▣▣▣▣▣▣▣▣▣▣▣▣▣▣▣▣▣▣▣▣▣▣▣▣▣▣▣▣▣▣▣▣▣▣▣▣▣▣▣□■□■□■□■□■□■□■□■□■□■□■□■ 28 | ■ = 12\n",
            "▣▣▣▣▣▣▣▣▣▣▣▣▣▣▣▣▣▣▣▣▣▣▣▣▣▣▣▣▣▣▣▣▣▣▣▣▣▣▣▣▣▣▣▣▣▣▣▣▣▣▣▣▣▣▣▣▣□■□■□■□■□■□■□■□■□■□■□■□ 29 | ■ = 11\n",
            "▣▣▣▣▣▣▣▣▣▣▣▣▣▣▣▣▣▣▣▣▣▣▣▣▣▣▣▣▣▣▣▣▣▣▣▣▣▣▣▣▣▣▣▣▣▣▣▣▣▣▣▣▣▣▣▣▣▣□■□■□■□■□■□■□■□■□■□■□■ 29 | ■ = 11\n",
            "▣▣▣▣▣▣▣▣▣▣▣▣▣▣▣▣▣▣▣▣▣▣▣▣▣▣▣▣▣▣▣▣▣▣▣▣▣▣▣▣▣▣▣▣▣▣▣▣▣▣▣▣▣▣▣▣▣▣▣□■□■□■□■□■□■□■□■□■□■□ 30 | ■ = 10\n",
            "▣▣▣▣▣▣▣▣▣▣▣▣▣▣▣▣▣▣▣▣▣▣▣▣▣▣▣▣▣▣▣▣▣▣▣▣▣▣▣▣▣▣▣▣▣▣▣▣▣▣▣▣▣▣▣▣▣▣▣▣□■□■□■□■□■□■□■□■□■□■ 30 | ■ = 10\n",
            "▣▣▣▣▣▣▣▣▣▣▣▣▣▣▣▣▣▣▣▣▣▣▣▣▣▣▣▣▣▣▣▣▣▣▣▣▣▣▣▣▣▣▣▣▣▣▣▣▣▣▣▣▣▣▣▣▣▣▣▣▣□■□■□■□■□■□■□■□■□■□ 31 | ■ = 9\n",
            "▣▣▣▣▣▣▣▣▣▣▣▣▣▣▣▣▣▣▣▣▣▣▣▣▣▣▣▣▣▣▣▣▣▣▣▣▣▣▣▣▣▣▣▣▣▣▣▣▣▣▣▣▣▣▣▣▣▣▣▣▣▣□■□■□■□■□■□■□■□■□■ 31 | ■ = 9\n",
            "▣▣▣▣▣▣▣▣▣▣▣▣▣▣▣▣▣▣▣▣▣▣▣▣▣▣▣▣▣▣▣▣▣▣▣▣▣▣▣▣▣▣▣▣▣▣▣▣▣▣▣▣▣▣▣▣▣▣▣▣▣▣▣□■□■□■□■□■□■□■□■□ 32 | ■ = 8\n",
            "▣▣▣▣▣▣▣▣▣▣▣▣▣▣▣▣▣▣▣▣▣▣▣▣▣▣▣▣▣▣▣▣▣▣▣▣▣▣▣▣▣▣▣▣▣▣▣▣▣▣▣▣▣▣▣▣▣▣▣▣▣▣▣▣□■□■□■□■□■□■□■□■ 32 | ■ = 8\n",
            "▣▣▣▣▣▣▣▣▣▣▣▣▣▣▣▣▣▣▣▣▣▣▣▣▣▣▣▣▣▣▣▣▣▣▣▣▣▣▣▣▣▣▣▣▣▣▣▣▣▣▣▣▣▣▣▣▣▣▣▣▣▣▣▣▣□■□■□■□■□■□■□■□ 33 | ■ = 7\n",
            "▣▣▣▣▣▣▣▣▣▣▣▣▣▣▣▣▣▣▣▣▣▣▣▣▣▣▣▣▣▣▣▣▣▣▣▣▣▣▣▣▣▣▣▣▣▣▣▣▣▣▣▣▣▣▣▣▣▣▣▣▣▣▣▣▣▣□■□■□■□■□■□■□■ 33 | ■ = 7\n",
            "▣▣▣▣▣▣▣▣▣▣▣▣▣▣▣▣▣▣▣▣▣▣▣▣▣▣▣▣▣▣▣▣▣▣▣▣▣▣▣▣▣▣▣▣▣▣▣▣▣▣▣▣▣▣▣▣▣▣▣▣▣▣▣▣▣▣▣□■□■□■□■□■□■□ 34 | ■ = 6\n",
            "▣▣▣▣▣▣▣▣▣▣▣▣▣▣▣▣▣▣▣▣▣▣▣▣▣▣▣▣▣▣▣▣▣▣▣▣▣▣▣▣▣▣▣▣▣▣▣▣▣▣▣▣▣▣▣▣▣▣▣▣▣▣▣▣▣▣▣▣□■□■□■□■□■□■ 34 | ■ = 6\n",
            "▣▣▣▣▣▣▣▣▣▣▣▣▣▣▣▣▣▣▣▣▣▣▣▣▣▣▣▣▣▣▣▣▣▣▣▣▣▣▣▣▣▣▣▣▣▣▣▣▣▣▣▣▣▣▣▣▣▣▣▣▣▣▣▣▣▣▣▣▣□■□■□■□■□■□ 35 | ■ = 5\n",
            "▣▣▣▣▣▣▣▣▣▣▣▣▣▣▣▣▣▣▣▣▣▣▣▣▣▣▣▣▣▣▣▣▣▣▣▣▣▣▣▣▣▣▣▣▣▣▣▣▣▣▣▣▣▣▣▣▣▣▣▣▣▣▣▣▣▣▣▣▣▣□■□■□■□■□■ 35 | ■ = 5\n",
            "▣▣▣▣▣▣▣▣▣▣▣▣▣▣▣▣▣▣▣▣▣▣▣▣▣▣▣▣▣▣▣▣▣▣▣▣▣▣▣▣▣▣▣▣▣▣▣▣▣▣▣▣▣▣▣▣▣▣▣▣▣▣▣▣▣▣▣▣▣▣▣□■□■□■□■□ 36 | ■ = 4\n",
            "▣▣▣▣▣▣▣▣▣▣▣▣▣▣▣▣▣▣▣▣▣▣▣▣▣▣▣▣▣▣▣▣▣▣▣▣▣▣▣▣▣▣▣▣▣▣▣▣▣▣▣▣▣▣▣▣▣▣▣▣▣▣▣▣▣▣▣▣▣▣▣▣□■□■□■□■ 36 | ■ = 4\n",
            "▣▣▣▣▣▣▣▣▣▣▣▣▣▣▣▣▣▣▣▣▣▣▣▣▣▣▣▣▣▣▣▣▣▣▣▣▣▣▣▣▣▣▣▣▣▣▣▣▣▣▣▣▣▣▣▣▣▣▣▣▣▣▣▣▣▣▣▣▣▣▣▣▣□■□■□■□ 37 | ■ = 3\n",
            "▣▣▣▣▣▣▣▣▣▣▣▣▣▣▣▣▣▣▣▣▣▣▣▣▣▣▣▣▣▣▣▣▣▣▣▣▣▣▣▣▣▣▣▣▣▣▣▣▣▣▣▣▣▣▣▣▣▣▣▣▣▣▣▣▣▣▣▣▣▣▣▣▣▣□■□■□■ 37 | ■ = 3\n",
            "▣▣▣▣▣▣▣▣▣▣▣▣▣▣▣▣▣▣▣▣▣▣▣▣▣▣▣▣▣▣▣▣▣▣▣▣▣▣▣▣▣▣▣▣▣▣▣▣▣▣▣▣▣▣▣▣▣▣▣▣▣▣▣▣▣▣▣▣▣▣▣▣▣▣▣□■□■□ 38 | ■ = 2\n",
            "▣▣▣▣▣▣▣▣▣▣▣▣▣▣▣▣▣▣▣▣▣▣▣▣▣▣▣▣▣▣▣▣▣▣▣▣▣▣▣▣▣▣▣▣▣▣▣▣▣▣▣▣▣▣▣▣▣▣▣▣▣▣▣▣▣▣▣▣▣▣▣▣▣▣▣▣□■□■ 38 | ■ = 2\n",
            "▣▣▣▣▣▣▣▣▣▣▣▣▣▣▣▣▣▣▣▣▣▣▣▣▣▣▣▣▣▣▣▣▣▣▣▣▣▣▣▣▣▣▣▣▣▣▣▣▣▣▣▣▣▣▣▣▣▣▣▣▣▣▣▣▣▣▣▣▣▣▣▣▣▣▣▣▣□■□ 39 | ■ = 1\n",
            "▣▣▣▣▣▣▣▣▣▣▣▣▣▣▣▣▣▣▣▣▣▣▣▣▣▣▣▣▣▣▣▣▣▣▣▣▣▣▣▣▣▣▣▣▣▣▣▣▣▣▣▣▣▣▣▣▣▣▣▣▣▣▣▣▣▣▣▣▣▣▣▣▣▣▣▣▣▣□■ 39 | ■ = 1\n",
            "▣▣▣▣▣▣▣▣▣▣▣▣▣▣▣▣▣▣▣▣▣▣▣▣▣▣▣▣▣▣▣▣▣▣▣▣▣▣▣▣▣▣▣▣▣▣▣▣▣▣▣▣▣▣▣▣▣▣▣▣▣▣▣▣▣▣▣▣▣▣▣▣▣▣▣▣▣▣▣□ 40 | ■ = 0\n",
            "| beore: 80 | safe: 40 | die: 40\n"
          ],
          "name": "stdout"
        }
      ]
    },
    {
      "cell_type": "code",
      "metadata": {
        "id": "CWOgFmPdk4bI",
        "colab_type": "code",
        "outputId": "f0bb8328-6db5-41ba-e6df-2e06b997cc13",
        "colab": {
          "base_uri": "https://localhost:8080/",
          "height": 52
        }
      },
      "source": [
        "import re\n",
        "\n",
        "\n",
        "def nchars(s, n):\n",
        "    \"\"\"文字列 s に、同じ文字が n 個以上連続している部分文字列を見つける\n",
        "    \"\"\"\n",
        "    assert n > 0\n",
        "    reg = re.compile(\"(.)\\\\1{%d,}\" % (n - 1))  # カンマを取ると n 個ちょうどになる\n",
        "    while True:\n",
        "        m = reg.search(s)\n",
        "        if not m:\n",
        "            break\n",
        "        yield m.group(0)\n",
        "        s = s[m.end():]\n",
        "\n",
        "\n",
        "print(list(nchars('a いい uuu ee お', 2)))\n",
        "print(list(nchars('aa いいい ううううう e ooo', 3)))\n"
      ],
      "execution_count": 0,
      "outputs": [
        {
          "output_type": "stream",
          "text": [
            "['いい', 'uuu', 'ee']\n",
            "['いいい', 'ううううう', 'ooo']\n"
          ],
          "name": "stdout"
        }
      ]
    }
  ]
}